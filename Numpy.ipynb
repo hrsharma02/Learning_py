{
 "cells": [
  {
   "cell_type": "code",
   "execution_count": 1,
   "id": "761564b4",
   "metadata": {},
   "outputs": [],
   "source": [
    "import numpy as np\n"
   ]
  },
  {
   "cell_type": "code",
   "execution_count": 2,
   "id": "93403a6b",
   "metadata": {},
   "outputs": [
    {
     "data": {
      "text/plain": [
       "array(['harish', '4', '6'], dtype='<U11')"
      ]
     },
     "execution_count": 2,
     "metadata": {},
     "output_type": "execute_result"
    }
   ],
   "source": [
    "np.array([\"harish\",4 ,6])"
   ]
  },
  {
   "cell_type": "code",
   "execution_count": 3,
   "id": "7e45ffcb",
   "metadata": {},
   "outputs": [
    {
     "data": {
      "text/plain": [
       "array([1, 2, 4, 5])"
      ]
     },
     "execution_count": 3,
     "metadata": {},
     "output_type": "execute_result"
    }
   ],
   "source": [
    "np.array([12,3,1,2,4,5,8])[-5:-1]"
   ]
  },
  {
   "cell_type": "code",
   "execution_count": 12,
   "id": "7d2d4691",
   "metadata": {},
   "outputs": [
    {
     "data": {
      "text/plain": [
       "array([[2, 3],\n",
       "       [3, 4]])"
      ]
     },
     "execution_count": 12,
     "metadata": {},
     "output_type": "execute_result"
    }
   ],
   "source": [
    "np.array([[2,3],[3,4]])"
   ]
  },
  {
   "cell_type": "code",
   "execution_count": 5,
   "id": "247f863b",
   "metadata": {},
   "outputs": [],
   "source": [
    "a = np.array([3,4])"
   ]
  },
  {
   "cell_type": "code",
   "execution_count": 6,
   "id": "7bb6ee95",
   "metadata": {},
   "outputs": [
    {
     "data": {
      "text/plain": [
       "array([3, 4])"
      ]
     },
     "execution_count": 6,
     "metadata": {},
     "output_type": "execute_result"
    }
   ],
   "source": [
    "a"
   ]
  },
  {
   "cell_type": "code",
   "execution_count": 19,
   "id": "edfc4eb5",
   "metadata": {},
   "outputs": [],
   "source": [
    "b = np.arange(15)"
   ]
  },
  {
   "cell_type": "code",
   "execution_count": 21,
   "id": "4ee59542",
   "metadata": {},
   "outputs": [
    {
     "data": {
      "text/plain": [
       "array([[ 0,  1,  2,  3,  4],\n",
       "       [ 5,  6,  7,  8,  9],\n",
       "       [10, 11, 12, 13, 14]])"
      ]
     },
     "execution_count": 21,
     "metadata": {},
     "output_type": "execute_result"
    }
   ],
   "source": [
    "b.reshape(3,5)"
   ]
  },
  {
   "cell_type": "code",
   "execution_count": 23,
   "id": "1755f9fa",
   "metadata": {},
   "outputs": [],
   "source": [
    "b = b.reshape(5,3)"
   ]
  },
  {
   "cell_type": "code",
   "execution_count": 24,
   "id": "355ccc5f",
   "metadata": {},
   "outputs": [
    {
     "data": {
      "text/plain": [
       "array([[ 0,  1,  2],\n",
       "       [ 3,  4,  5],\n",
       "       [ 6,  7,  8],\n",
       "       [ 9, 10, 11],\n",
       "       [12, 13, 14]])"
      ]
     },
     "execution_count": 24,
     "metadata": {},
     "output_type": "execute_result"
    }
   ],
   "source": [
    "b"
   ]
  },
  {
   "cell_type": "code",
   "execution_count": 29,
   "id": "96b41c26",
   "metadata": {},
   "outputs": [
    {
     "data": {
      "text/plain": [
       "numpy.ndarray"
      ]
     },
     "execution_count": 29,
     "metadata": {},
     "output_type": "execute_result"
    }
   ],
   "source": [
    "type(np.array([\"harish\",4 ,6]))"
   ]
  },
  {
   "cell_type": "code",
   "execution_count": 27,
   "id": "3548964d",
   "metadata": {},
   "outputs": [
    {
     "data": {
      "text/plain": [
       "array([[0., 0., 0.],\n",
       "       [0., 0., 0.],\n",
       "       [0., 0., 0.]])"
      ]
     },
     "execution_count": 27,
     "metadata": {},
     "output_type": "execute_result"
    }
   ],
   "source": [
    "np.zeros((3,3))"
   ]
  },
  {
   "cell_type": "code",
   "execution_count": 28,
   "id": "569c7d6c",
   "metadata": {},
   "outputs": [
    {
     "data": {
      "text/plain": [
       "array([[1., 1., 1., 1.],\n",
       "       [1., 1., 1., 1.],\n",
       "       [1., 1., 1., 1.],\n",
       "       [1., 1., 1., 1.]])"
      ]
     },
     "execution_count": 28,
     "metadata": {},
     "output_type": "execute_result"
    }
   ],
   "source": [
    "np.ones((4,4))"
   ]
  },
  {
   "cell_type": "code",
   "execution_count": 30,
   "id": "6359fc6f",
   "metadata": {},
   "outputs": [
    {
     "data": {
      "text/plain": [
       "array([[1., 1., 1., 1.],\n",
       "       [1., 1., 1., 1.],\n",
       "       [1., 1., 1., 1.]])"
      ]
     },
     "execution_count": 30,
     "metadata": {},
     "output_type": "execute_result"
    }
   ],
   "source": [
    "np.ones([3,4])"
   ]
  },
  {
   "cell_type": "code",
   "execution_count": 31,
   "id": "2f9624e0",
   "metadata": {},
   "outputs": [],
   "source": [
    "a = np.array([[1,2,3,4],[6,7,4,1]], ndmin = 3)"
   ]
  },
  {
   "cell_type": "code",
   "execution_count": 32,
   "id": "042a87af",
   "metadata": {},
   "outputs": [
    {
     "data": {
      "text/plain": [
       "array([[[1, 2, 3, 4],\n",
       "        [6, 7, 4, 1]]])"
      ]
     },
     "execution_count": 32,
     "metadata": {},
     "output_type": "execute_result"
    }
   ],
   "source": [
    "a"
   ]
  },
  {
   "cell_type": "code",
   "execution_count": 33,
   "id": "144ee675",
   "metadata": {},
   "outputs": [],
   "source": [
    "a1  = np.array([1,2,3], ndmin = 5, dtype = int)"
   ]
  },
  {
   "cell_type": "code",
   "execution_count": 34,
   "id": "aac49f06",
   "metadata": {},
   "outputs": [
    {
     "data": {
      "text/plain": [
       "array([[[[[1, 2, 3]]]]])"
      ]
     },
     "execution_count": 34,
     "metadata": {},
     "output_type": "execute_result"
    }
   ],
   "source": [
    "a1"
   ]
  },
  {
   "cell_type": "code",
   "execution_count": 35,
   "id": "af86f957",
   "metadata": {},
   "outputs": [],
   "source": [
    "x = np.array([(1,2),(4,5)], dtype = [(\"a\",\"<i2\"),(\"b\", \"<i8\")])"
   ]
  },
  {
   "cell_type": "code",
   "execution_count": 36,
   "id": "1de3e3d8",
   "metadata": {},
   "outputs": [
    {
     "data": {
      "text/plain": [
       "array([(1, 2), (4, 5)], dtype=[('a', '<i2'), ('b', '<i8')])"
      ]
     },
     "execution_count": 36,
     "metadata": {},
     "output_type": "execute_result"
    }
   ],
   "source": [
    "x"
   ]
  },
  {
   "cell_type": "code",
   "execution_count": 37,
   "id": "8ecca00b",
   "metadata": {},
   "outputs": [
    {
     "data": {
      "text/plain": [
       "1"
      ]
     },
     "execution_count": 37,
     "metadata": {},
     "output_type": "execute_result"
    }
   ],
   "source": [
    "x[0][0]"
   ]
  },
  {
   "cell_type": "code",
   "execution_count": 38,
   "id": "91b1bbe3",
   "metadata": {},
   "outputs": [
    {
     "data": {
      "text/plain": [
       "5"
      ]
     },
     "execution_count": 38,
     "metadata": {},
     "output_type": "execute_result"
    }
   ],
   "source": [
    "x[1][1]"
   ]
  },
  {
   "cell_type": "code",
   "execution_count": 39,
   "id": "acdcdb0d",
   "metadata": {},
   "outputs": [
    {
     "data": {
      "text/plain": [
       "2"
      ]
     },
     "execution_count": 39,
     "metadata": {},
     "output_type": "execute_result"
    }
   ],
   "source": [
    "x[0][1]"
   ]
  },
  {
   "cell_type": "code",
   "execution_count": 40,
   "id": "71863382",
   "metadata": {},
   "outputs": [
    {
     "data": {
      "text/plain": [
       "numpy.int16"
      ]
     },
     "execution_count": 40,
     "metadata": {},
     "output_type": "execute_result"
    }
   ],
   "source": [
    "type(x[1][0])"
   ]
  },
  {
   "cell_type": "code",
   "execution_count": 41,
   "id": "7932e606",
   "metadata": {},
   "outputs": [
    {
     "data": {
      "text/plain": [
       "numpy.int16"
      ]
     },
     "execution_count": 41,
     "metadata": {},
     "output_type": "execute_result"
    }
   ],
   "source": [
    "type(x[0][0])"
   ]
  },
  {
   "cell_type": "code",
   "execution_count": 42,
   "id": "112657cd",
   "metadata": {},
   "outputs": [
    {
     "data": {
      "text/plain": [
       "numpy.int64"
      ]
     },
     "execution_count": 42,
     "metadata": {},
     "output_type": "execute_result"
    }
   ],
   "source": [
    "type(x[0][1])"
   ]
  },
  {
   "cell_type": "code",
   "execution_count": 43,
   "id": "3456b639",
   "metadata": {},
   "outputs": [],
   "source": [
    "x1 = np.array([(11,2),(4,5)], dtype = [(\"a\",\"<i8\"),(\"b\", \"<i8\")])"
   ]
  },
  {
   "cell_type": "code",
   "execution_count": 80,
   "id": "fc5affa2",
   "metadata": {},
   "outputs": [
    {
     "data": {
      "text/plain": [
       "numpy.int64"
      ]
     },
     "execution_count": 80,
     "metadata": {},
     "output_type": "execute_result"
    }
   ],
   "source": [
    "type(x1[0][0])"
   ]
  },
  {
   "cell_type": "code",
   "execution_count": 44,
   "id": "453b427c",
   "metadata": {},
   "outputs": [],
   "source": [
    "y =np.mat(x1)"
   ]
  },
  {
   "cell_type": "code",
   "execution_count": 45,
   "id": "e3edd4c3",
   "metadata": {},
   "outputs": [
    {
     "data": {
      "text/plain": [
       "matrix([[(11, 2), ( 4, 5)]], dtype=[('a', '<i8'), ('b', '<i8')])"
      ]
     },
     "execution_count": 45,
     "metadata": {},
     "output_type": "execute_result"
    }
   ],
   "source": [
    "y"
   ]
  },
  {
   "cell_type": "code",
   "execution_count": 46,
   "id": "7a058a9f",
   "metadata": {},
   "outputs": [
    {
     "name": "stderr",
     "output_type": "stream",
     "text": [
      "C:\\Users\\Harish Sharma\\anaconda3\\lib\\site-packages\\numpy\\matrixlib\\defmatrix.py:145: VisibleDeprecationWarning: Creating an ndarray from ragged nested sequences (which is a list-or-tuple of lists-or-tuples-or ndarrays with different lengths or shapes) is deprecated. If you meant to do this, you must specify 'dtype=object' when creating the ndarray.\n",
      "  arr = N.array(data, dtype=dtype, copy=copy)\n"
     ]
    },
    {
     "data": {
      "text/plain": [
       "matrix([[list([1, 4]), list([3, 2, 1])]], dtype=object)"
      ]
     },
     "execution_count": 46,
     "metadata": {},
     "output_type": "execute_result"
    }
   ],
   "source": [
    "np.mat([[1,4],[3,2,1]])"
   ]
  },
  {
   "cell_type": "code",
   "execution_count": 89,
   "id": "7a7a3f71",
   "metadata": {},
   "outputs": [],
   "source": [
    "#numpy asarray"
   ]
  },
  {
   "cell_type": "code",
   "execution_count": 90,
   "id": "219375b9",
   "metadata": {},
   "outputs": [],
   "source": [
    "a = [1,2,3]"
   ]
  },
  {
   "cell_type": "code",
   "execution_count": 91,
   "id": "4bba2f8a",
   "metadata": {},
   "outputs": [
    {
     "data": {
      "text/plain": [
       "list"
      ]
     },
     "execution_count": 91,
     "metadata": {},
     "output_type": "execute_result"
    }
   ],
   "source": [
    "type(a)"
   ]
  },
  {
   "cell_type": "code",
   "execution_count": 92,
   "id": "9ab62790",
   "metadata": {},
   "outputs": [
    {
     "data": {
      "text/plain": [
       "numpy.ndarray"
      ]
     },
     "execution_count": 92,
     "metadata": {},
     "output_type": "execute_result"
    }
   ],
   "source": [
    "type(np.asarray(a))"
   ]
  },
  {
   "cell_type": "code",
   "execution_count": 93,
   "id": "bcca60cc",
   "metadata": {},
   "outputs": [
    {
     "data": {
      "text/plain": [
       "array([1, 2])"
      ]
     },
     "execution_count": 93,
     "metadata": {},
     "output_type": "execute_result"
    }
   ],
   "source": [
    "np.asarray((1,2))"
   ]
  },
  {
   "cell_type": "code",
   "execution_count": 47,
   "id": "01ec328f",
   "metadata": {},
   "outputs": [
    {
     "data": {
      "text/plain": [
       "True"
      ]
     },
     "execution_count": 47,
     "metadata": {},
     "output_type": "execute_result"
    }
   ],
   "source": [
    "issubclass(np.matrix, np.ndarray)"
   ]
  },
  {
   "cell_type": "code",
   "execution_count": 104,
   "id": "ce864f55",
   "metadata": {},
   "outputs": [],
   "source": [
    "#asanyarray"
   ]
  },
  {
   "cell_type": "code",
   "execution_count": 113,
   "id": "8f3f9dd6",
   "metadata": {},
   "outputs": [
    {
     "data": {
      "text/plain": [
       "array([1, 2])"
      ]
     },
     "execution_count": 113,
     "metadata": {},
     "output_type": "execute_result"
    }
   ],
   "source": [
    "a = [1,2]\n",
    "np.asanyarray(a)"
   ]
  },
  {
   "cell_type": "code",
   "execution_count": 115,
   "id": "621d13a1",
   "metadata": {},
   "outputs": [
    {
     "data": {
      "text/plain": [
       "numpy.ndarray"
      ]
     },
     "execution_count": 115,
     "metadata": {},
     "output_type": "execute_result"
    }
   ],
   "source": [
    "type(np.asanyarray(a))"
   ]
  },
  {
   "cell_type": "code",
   "execution_count": 116,
   "id": "f807e6ae",
   "metadata": {},
   "outputs": [],
   "source": [
    "#Deep copy and shallow copy"
   ]
  },
  {
   "cell_type": "code",
   "execution_count": 117,
   "id": "67a42c2c",
   "metadata": {},
   "outputs": [],
   "source": [
    "x = np.array([1,2,3,4])"
   ]
  },
  {
   "cell_type": "code",
   "execution_count": 118,
   "id": "62c34b71",
   "metadata": {},
   "outputs": [],
   "source": [
    "y = x"
   ]
  },
  {
   "cell_type": "code",
   "execution_count": 119,
   "id": "0240c85b",
   "metadata": {},
   "outputs": [
    {
     "data": {
      "text/plain": [
       "array([1, 2, 3, 4])"
      ]
     },
     "execution_count": 119,
     "metadata": {},
     "output_type": "execute_result"
    }
   ],
   "source": [
    "y"
   ]
  },
  {
   "cell_type": "code",
   "execution_count": 120,
   "id": "27011c09",
   "metadata": {},
   "outputs": [
    {
     "data": {
      "text/plain": [
       "2"
      ]
     },
     "execution_count": 120,
     "metadata": {},
     "output_type": "execute_result"
    }
   ],
   "source": [
    "y[1]"
   ]
  },
  {
   "cell_type": "code",
   "execution_count": 121,
   "id": "d8b03bad",
   "metadata": {},
   "outputs": [
    {
     "data": {
      "text/plain": [
       "2"
      ]
     },
     "execution_count": 121,
     "metadata": {},
     "output_type": "execute_result"
    }
   ],
   "source": [
    "x[1]"
   ]
  },
  {
   "cell_type": "code",
   "execution_count": 122,
   "id": "7f903415",
   "metadata": {},
   "outputs": [],
   "source": [
    "y[1] = 50"
   ]
  },
  {
   "cell_type": "code",
   "execution_count": 128,
   "id": "7d0ada71",
   "metadata": {},
   "outputs": [
    {
     "data": {
      "text/plain": [
       "array([ 1, 50,  3,  4])"
      ]
     },
     "execution_count": 128,
     "metadata": {},
     "output_type": "execute_result"
    }
   ],
   "source": [
    "x"
   ]
  },
  {
   "cell_type": "code",
   "execution_count": 124,
   "id": "c3f88187",
   "metadata": {},
   "outputs": [
    {
     "data": {
      "text/plain": [
       "50"
      ]
     },
     "execution_count": 124,
     "metadata": {},
     "output_type": "execute_result"
    }
   ],
   "source": [
    "x[1]"
   ]
  },
  {
   "cell_type": "code",
   "execution_count": 126,
   "id": "492896a5",
   "metadata": {},
   "outputs": [],
   "source": [
    "z = np.copy(x)"
   ]
  },
  {
   "cell_type": "code",
   "execution_count": 127,
   "id": "970a168c",
   "metadata": {},
   "outputs": [
    {
     "data": {
      "text/plain": [
       "array([ 1, 50,  3,  4])"
      ]
     },
     "execution_count": 127,
     "metadata": {},
     "output_type": "execute_result"
    }
   ],
   "source": [
    "z"
   ]
  },
  {
   "cell_type": "code",
   "execution_count": 130,
   "id": "3b3adb19",
   "metadata": {},
   "outputs": [
    {
     "data": {
      "text/plain": [
       "50"
      ]
     },
     "execution_count": 130,
     "metadata": {},
     "output_type": "execute_result"
    }
   ],
   "source": [
    "z[1]"
   ]
  },
  {
   "cell_type": "code",
   "execution_count": 131,
   "id": "04bc75cc",
   "metadata": {},
   "outputs": [],
   "source": [
    "z[0] = 45"
   ]
  },
  {
   "cell_type": "code",
   "execution_count": 132,
   "id": "5348bb6e",
   "metadata": {},
   "outputs": [
    {
     "data": {
      "text/plain": [
       "array([45, 50,  3,  4])"
      ]
     },
     "execution_count": 132,
     "metadata": {},
     "output_type": "execute_result"
    }
   ],
   "source": [
    "z"
   ]
  },
  {
   "cell_type": "code",
   "execution_count": 133,
   "id": "b7284568",
   "metadata": {},
   "outputs": [
    {
     "data": {
      "text/plain": [
       "array([ 1, 50,  3,  4])"
      ]
     },
     "execution_count": 133,
     "metadata": {},
     "output_type": "execute_result"
    }
   ],
   "source": [
    "y"
   ]
  },
  {
   "cell_type": "code",
   "execution_count": 134,
   "id": "331d4a36",
   "metadata": {},
   "outputs": [
    {
     "data": {
      "text/plain": [
       "array([ 1, 50,  3,  4])"
      ]
     },
     "execution_count": 134,
     "metadata": {},
     "output_type": "execute_result"
    }
   ],
   "source": [
    "x"
   ]
  },
  {
   "cell_type": "code",
   "execution_count": 135,
   "id": "627a1d2c",
   "metadata": {},
   "outputs": [],
   "source": [
    "#Numpy.fromfuction"
   ]
  },
  {
   "cell_type": "code",
   "execution_count": 142,
   "id": "4686882c",
   "metadata": {},
   "outputs": [
    {
     "data": {
      "text/plain": [
       "array([[ True, False, False],\n",
       "       [False,  True, False],\n",
       "       [False, False,  True]])"
      ]
     },
     "execution_count": 142,
     "metadata": {},
     "output_type": "execute_result"
    }
   ],
   "source": [
    "np.fromfunction(lambda i,j:i ==j, (3,3), dtype=int)"
   ]
  },
  {
   "cell_type": "code",
   "execution_count": 48,
   "id": "0c7b8712",
   "metadata": {},
   "outputs": [
    {
     "data": {
      "text/plain": [
       "array([[False,  True,  True],\n",
       "       [ True, False,  True],\n",
       "       [ True,  True, False]])"
      ]
     },
     "execution_count": 48,
     "metadata": {},
     "output_type": "execute_result"
    }
   ],
   "source": [
    "np.fromfunction(lambda i,j: i!=j, (3,3), dtype=int)"
   ]
  },
  {
   "cell_type": "code",
   "execution_count": 164,
   "id": "5c59d577",
   "metadata": {},
   "outputs": [
    {
     "data": {
      "text/plain": [
       "array([[[[0, 0, 0],\n",
       "         [0, 0, 0],\n",
       "         [0, 0, 0]],\n",
       "\n",
       "        [[0, 0, 0],\n",
       "         [0, 0, 0],\n",
       "         [0, 0, 0]],\n",
       "\n",
       "        [[0, 0, 0],\n",
       "         [0, 0, 0],\n",
       "         [0, 0, 0]]],\n",
       "\n",
       "\n",
       "       [[[0, 0, 0],\n",
       "         [0, 0, 0],\n",
       "         [0, 0, 0]],\n",
       "\n",
       "        [[0, 0, 0],\n",
       "         [0, 1, 2],\n",
       "         [0, 2, 4]],\n",
       "\n",
       "        [[0, 0, 0],\n",
       "         [0, 2, 4],\n",
       "         [0, 4, 8]]]])"
      ]
     },
     "execution_count": 164,
     "metadata": {},
     "output_type": "execute_result"
    }
   ],
   "source": [
    "np.fromfunction(lambda i,j,k,l:i*j*k*l,(2,3,3,3), dtype=int)"
   ]
  },
  {
   "cell_type": "code",
   "execution_count": 56,
   "id": "b36340a1",
   "metadata": {},
   "outputs": [
    {
     "data": {
      "text/plain": [
       "array([[[0.+0.j, 1.+0.j, 2.+0.j],\n",
       "        [1.+0.j, 2.+0.j, 3.+0.j]],\n",
       "\n",
       "       [[1.+0.j, 2.+0.j, 3.+0.j],\n",
       "        [2.+0.j, 3.+0.j, 4.+0.j]]])"
      ]
     },
     "execution_count": 56,
     "metadata": {},
     "output_type": "execute_result"
    }
   ],
   "source": [
    "np.fromfunction(lambda i,j,k: i+j+k, (2,2,3),dtype=complex)"
   ]
  },
  {
   "cell_type": "code",
   "execution_count": 59,
   "id": "27750996",
   "metadata": {},
   "outputs": [
    {
     "data": {
      "text/plain": [
       "array([[[ 0, -1, -2],\n",
       "        [ 1,  0, -1]],\n",
       "\n",
       "       [[ 1,  0, -1],\n",
       "        [ 2,  1,  0]]])"
      ]
     },
     "execution_count": 59,
     "metadata": {},
     "output_type": "execute_result"
    }
   ],
   "source": [
    "np.fromfunction(lambda i,j,k: i+j-k, (2,2,3),dtype=int)"
   ]
  },
  {
   "cell_type": "code",
   "execution_count": 179,
   "id": "5281226f",
   "metadata": {},
   "outputs": [],
   "source": [
    "iterable = [x*x for x in range(5)]"
   ]
  },
  {
   "cell_type": "code",
   "execution_count": 180,
   "id": "d6204f84",
   "metadata": {},
   "outputs": [
    {
     "data": {
      "text/plain": [
       "[0, 1, 4, 9, 16]"
      ]
     },
     "execution_count": 180,
     "metadata": {},
     "output_type": "execute_result"
    }
   ],
   "source": [
    "iterable"
   ]
  },
  {
   "cell_type": "code",
   "execution_count": 61,
   "id": "87c44c58",
   "metadata": {},
   "outputs": [],
   "source": [
    "iter = [x**x for x in range(5)]"
   ]
  },
  {
   "cell_type": "code",
   "execution_count": 62,
   "id": "0c22a708",
   "metadata": {},
   "outputs": [
    {
     "data": {
      "text/plain": [
       "[1, 1, 4, 27, 256]"
      ]
     },
     "execution_count": 62,
     "metadata": {},
     "output_type": "execute_result"
    }
   ],
   "source": [
    "iter"
   ]
  },
  {
   "cell_type": "code",
   "execution_count": 66,
   "id": "120caf13",
   "metadata": {},
   "outputs": [
    {
     "data": {
      "text/plain": [
       "[0, 4, 8, 12, 16, 20]"
      ]
     },
     "execution_count": 66,
     "metadata": {},
     "output_type": "execute_result"
    }
   ],
   "source": [
    "item = [x*4 for x in range(6)]\n",
    "item"
   ]
  },
  {
   "cell_type": "code",
   "execution_count": 68,
   "id": "a3867173",
   "metadata": {},
   "outputs": [
    {
     "data": {
      "text/plain": [
       "[3, 4, 5, 6, 7, 8, 9, 10, 11, 12]"
      ]
     },
     "execution_count": 68,
     "metadata": {},
     "output_type": "execute_result"
    }
   ],
   "source": [
    "item = [x+3 for x in range(10)]\n",
    "item"
   ]
  },
  {
   "cell_type": "code",
   "execution_count": 190,
   "id": "c93394bc",
   "metadata": {},
   "outputs": [],
   "source": [
    "a = np.fromiter(iterable, int)"
   ]
  },
  {
   "cell_type": "code",
   "execution_count": 189,
   "id": "154bc93f",
   "metadata": {},
   "outputs": [
    {
     "data": {
      "text/plain": [
       "[array([ 0,  1,  4,  9, 16])]"
      ]
     },
     "execution_count": 189,
     "metadata": {},
     "output_type": "execute_result"
    }
   ],
   "source": [
    "a"
   ]
  },
  {
   "cell_type": "code",
   "execution_count": 72,
   "id": "cd20aa6b",
   "metadata": {},
   "outputs": [
    {
     "data": {
      "text/plain": [
       "array([214., 435.])"
      ]
     },
     "execution_count": 72,
     "metadata": {},
     "output_type": "execute_result"
    }
   ],
   "source": [
    "b = np.fromstring(\"214 435\", sep=\" \")\n",
    "b"
   ]
  },
  {
   "cell_type": "code",
   "execution_count": 78,
   "id": "b1c025f7",
   "metadata": {},
   "outputs": [
    {
     "data": {
      "text/plain": [
       "array([400., 200., 100.])"
      ]
     },
     "execution_count": 78,
     "metadata": {},
     "output_type": "execute_result"
    }
   ],
   "source": [
    "b = np.fromstring(\"400 200 100\", sep=\" \")\n",
    "b"
   ]
  },
  {
   "cell_type": "code",
   "execution_count": null,
   "id": "e85eaaaf",
   "metadata": {},
   "outputs": [],
   "source": []
  },
  {
   "cell_type": "code",
   "execution_count": 70,
   "id": "06f421cc",
   "metadata": {},
   "outputs": [],
   "source": [
    "b1 = np.fromstring(\"12  24\", sep= \" \")"
   ]
  },
  {
   "cell_type": "code",
   "execution_count": 71,
   "id": "416588ea",
   "metadata": {},
   "outputs": [
    {
     "data": {
      "text/plain": [
       "array([12., 24.])"
      ]
     },
     "execution_count": 71,
     "metadata": {},
     "output_type": "execute_result"
    }
   ],
   "source": [
    "b1"
   ]
  },
  {
   "cell_type": "code",
   "execution_count": 202,
   "id": "9011ee13",
   "metadata": {},
   "outputs": [],
   "source": [
    "#datatype conversion"
   ]
  },
  {
   "cell_type": "code",
   "execution_count": 203,
   "id": "60290717",
   "metadata": {},
   "outputs": [
    {
     "name": "stdout",
     "output_type": "stream",
     "text": [
      "type/class of the object: <class 'numpy.ndarray'>\n"
     ]
    }
   ],
   "source": [
    "mylist = [1,2,3,4]\n",
    "import numpy as np\n",
    "arr = np.array(mylist)\n",
    "print(\"type/class of the object:\",type(arr))"
   ]
  },
  {
   "cell_type": "code",
   "execution_count": 204,
   "id": "3df2ae9e",
   "metadata": {},
   "outputs": [
    {
     "name": "stdout",
     "output_type": "stream",
     "text": [
      "[1 2 3 4]\n"
     ]
    }
   ],
   "source": [
    "print(arr)"
   ]
  },
  {
   "cell_type": "code",
   "execution_count": 206,
   "id": "938ed815",
   "metadata": {},
   "outputs": [],
   "source": [
    "mymat = [[1,2,3],[1,4,7],[3,6,9]]"
   ]
  },
  {
   "cell_type": "code",
   "execution_count": 207,
   "id": "d4a4e3a7",
   "metadata": {},
   "outputs": [
    {
     "name": "stdout",
     "output_type": "stream",
     "text": [
      "type/class of this object: <class 'numpy.ndarray'>\n"
     ]
    }
   ],
   "source": [
    "mat = np.array(mymat)\n",
    "print(\"type/class of this object:\", type(mat))"
   ]
  },
  {
   "cell_type": "code",
   "execution_count": 210,
   "id": "538325ee",
   "metadata": {},
   "outputs": [
    {
     "name": "stdout",
     "output_type": "stream",
     "text": [
      "here is the matrix\n",
      "- [[1 2 3]\n",
      " [1 4 7]\n",
      " [3 6 9]] \n",
      "------\n",
      "[[1 2 3]\n",
      " [1 4 7]\n",
      " [3 6 9]]\n"
     ]
    }
   ],
   "source": [
    "print(\"here is the matrix\\n-\", mat, \"\\n------\")\n",
    "print(mat)"
   ]
  },
  {
   "cell_type": "code",
   "execution_count": 211,
   "id": "5a258b2a",
   "metadata": {},
   "outputs": [],
   "source": [
    "#arange and linspace"
   ]
  },
  {
   "cell_type": "code",
   "execution_count": 216,
   "id": "0794c91a",
   "metadata": {},
   "outputs": [
    {
     "data": {
      "text/plain": [
       "[1, 5, 9, 13, 17]"
      ]
     },
     "execution_count": 216,
     "metadata": {},
     "output_type": "execute_result"
    }
   ],
   "source": [
    "list(range(1,21,4))"
   ]
  },
  {
   "cell_type": "code",
   "execution_count": 101,
   "id": "64c5e1db",
   "metadata": {},
   "outputs": [],
   "source": [
    "a =list(range(-10,10))"
   ]
  },
  {
   "cell_type": "code",
   "execution_count": 102,
   "id": "1e8a2330",
   "metadata": {},
   "outputs": [
    {
     "data": {
      "text/plain": [
       "[-10, -9, -8, -7, -6, -5, -4, -3, -2, -1, 0, 1, 2, 3, 4, 5, 6, 7, 8, 9]"
      ]
     },
     "execution_count": 102,
     "metadata": {},
     "output_type": "execute_result"
    }
   ],
   "source": [
    "a"
   ]
  },
  {
   "cell_type": "code",
   "execution_count": 121,
   "id": "3c9c2363",
   "metadata": {},
   "outputs": [],
   "source": [
    "a1 = list(range(10,2,-2))"
   ]
  },
  {
   "cell_type": "code",
   "execution_count": 122,
   "id": "8a355e64",
   "metadata": {},
   "outputs": [
    {
     "data": {
      "text/plain": [
       "[10, 8, 6, 4]"
      ]
     },
     "execution_count": 122,
     "metadata": {},
     "output_type": "execute_result"
    }
   ],
   "source": [
    "a1"
   ]
  },
  {
   "cell_type": "code",
   "execution_count": 220,
   "id": "6a836822",
   "metadata": {},
   "outputs": [
    {
     "data": {
      "text/plain": [
       "[1.0,\n",
       " 2.2,\n",
       " 3.4000000000000004,\n",
       " 4.6000000000000005,\n",
       " 5.800000000000001,\n",
       " 7.000000000000001,\n",
       " 8.200000000000001,\n",
       " 9.400000000000002,\n",
       " 10.600000000000001,\n",
       " 11.8,\n",
       " 13.000000000000002,\n",
       " 14.200000000000003,\n",
       " 15.400000000000002,\n",
       " 16.6,\n",
       " 17.800000000000004,\n",
       " 19.000000000000004]"
      ]
     },
     "execution_count": 220,
     "metadata": {},
     "output_type": "execute_result"
    }
   ],
   "source": [
    "list(np.arange(1,20,1.2))"
   ]
  },
  {
   "cell_type": "code",
   "execution_count": 222,
   "id": "5bea5214",
   "metadata": {},
   "outputs": [
    {
     "data": {
      "text/plain": [
       "array([ 2.1,  4.6,  7.1,  9.6, 12.1, 14.6, 17.1, 19.6, 22.1, 24.6])"
      ]
     },
     "execution_count": 222,
     "metadata": {},
     "output_type": "execute_result"
    }
   ],
   "source": [
    "np.arange(2.1,25,2.5)"
   ]
  },
  {
   "cell_type": "code",
   "execution_count": 225,
   "id": "d094f66e",
   "metadata": {},
   "outputs": [
    {
     "data": {
      "text/plain": [
       "array([25. , 22.9, 20.8, 18.7, 16.6, 14.5, 12.4, 10.3,  8.2,  6.1,  4. ,\n",
       "        1.9])"
      ]
     },
     "execution_count": 225,
     "metadata": {},
     "output_type": "execute_result"
    }
   ],
   "source": [
    "np.arange(25,.5,-2.1)"
   ]
  },
  {
   "cell_type": "code",
   "execution_count": 229,
   "id": "16d44470",
   "metadata": {},
   "outputs": [
    {
     "data": {
      "text/plain": [
       "array([1. , 1.5])"
      ]
     },
     "execution_count": 229,
     "metadata": {},
     "output_type": "execute_result"
    }
   ],
   "source": [
    "np.arange(1,2,.5)"
   ]
  },
  {
   "cell_type": "code",
   "execution_count": 233,
   "id": "507e870e",
   "metadata": {},
   "outputs": [
    {
     "data": {
      "text/plain": [
       "[array([ 1.        ,  2.71428571,  4.42857143,  6.14285714,  7.85714286,\n",
       "         9.57142857, 11.28571429, 13.        , 14.71428571, 16.42857143,\n",
       "        18.14285714, 19.85714286, 21.57142857, 23.28571429, 25.        ])]"
      ]
     },
     "execution_count": 233,
     "metadata": {},
     "output_type": "execute_result"
    }
   ],
   "source": [
    "[(np.linspace(1,25,15))]"
   ]
  },
  {
   "cell_type": "code",
   "execution_count": 237,
   "id": "b7b0942c",
   "metadata": {},
   "outputs": [],
   "source": [
    "l = \"harish\""
   ]
  },
  {
   "cell_type": "code",
   "execution_count": 239,
   "id": "296483a7",
   "metadata": {},
   "outputs": [
    {
     "data": {
      "text/plain": [
       "'Harish'"
      ]
     },
     "execution_count": 239,
     "metadata": {},
     "output_type": "execute_result"
    }
   ],
   "source": [
    "l.title()"
   ]
  },
  {
   "cell_type": "code",
   "execution_count": 255,
   "id": "4ebff9f1",
   "metadata": {},
   "outputs": [
    {
     "data": {
      "text/plain": [
       "array([[41., 41., 41., 41.],\n",
       "       [41., 41., 41., 41.],\n",
       "       [41., 41., 41., 41.],\n",
       "       [41., 41., 41., 41.]])"
      ]
     },
     "execution_count": 255,
     "metadata": {},
     "output_type": "execute_result"
    }
   ],
   "source": [
    "(np.ones((4,4)))*41"
   ]
  },
  {
   "cell_type": "code",
   "execution_count": 257,
   "id": "9fcb40d5",
   "metadata": {},
   "outputs": [
    {
     "data": {
      "text/plain": [
       "array([[0., 0., 0., 0.],\n",
       "       [0., 0., 0., 0.]])"
      ]
     },
     "execution_count": 257,
     "metadata": {},
     "output_type": "execute_result"
    }
   ],
   "source": [
    "np.empty((2,4))*0"
   ]
  },
  {
   "cell_type": "code",
   "execution_count": 260,
   "id": "d86da5ae",
   "metadata": {},
   "outputs": [
    {
     "data": {
      "text/plain": [
       "array([[1., 0., 0., 0.],\n",
       "       [0., 1., 0., 0.],\n",
       "       [0., 0., 1., 0.],\n",
       "       [0., 0., 0., 1.]])"
      ]
     },
     "execution_count": 260,
     "metadata": {},
     "output_type": "execute_result"
    }
   ],
   "source": [
    "np.eye(4)"
   ]
  },
  {
   "cell_type": "code",
   "execution_count": 268,
   "id": "2a8771f6",
   "metadata": {},
   "outputs": [
    {
     "data": {
      "text/plain": [
       "array([1.00000000e+04, 9.18254284e+04, 8.43190929e+05, 7.74263683e+06,\n",
       "       7.10970943e+07, 6.52852114e+08, 5.99484250e+09, 5.50478981e+10,\n",
       "       5.05479682e+11, 4.64158883e+12, 4.26215883e+13, 3.91374560e+14,\n",
       "       3.59381366e+15, 3.30003479e+16, 3.03027108e+17, 2.78255940e+18,\n",
       "       2.55509709e+19, 2.34622885e+20, 2.15443469e+21, 1.97831888e+22,\n",
       "       1.81659979e+23, 1.66810054e+24, 1.53174046e+25, 1.40652724e+26,\n",
       "       1.29154967e+27, 1.18597101e+28, 1.08902296e+29, 1.00000000e+30])"
      ]
     },
     "execution_count": 268,
     "metadata": {},
     "output_type": "execute_result"
    }
   ],
   "source": [
    "np.logspace(4,30, num=28)\n"
   ]
  },
  {
   "cell_type": "code",
   "execution_count": 269,
   "id": "52f4bcd0",
   "metadata": {},
   "outputs": [
    {
     "data": {
      "text/plain": [
       "matrix([[1, 2, 3, 4, 5, 6]])"
      ]
     },
     "execution_count": 269,
     "metadata": {},
     "output_type": "execute_result"
    }
   ],
   "source": [
    "l = [1,2,3,4,5,6]\n",
    "np.matrix(l)"
   ]
  },
  {
   "cell_type": "code",
   "execution_count": 272,
   "id": "3e6255ec",
   "metadata": {},
   "outputs": [],
   "source": [
    " k =(np.ones((3,4,8))) + 5"
   ]
  },
  {
   "cell_type": "code",
   "execution_count": 274,
   "id": "a83924d6",
   "metadata": {},
   "outputs": [
    {
     "data": {
      "text/plain": [
       "array([[[12., 12., 12., 12., 12., 12., 12., 12.],\n",
       "        [12., 12., 12., 12., 12., 12., 12., 12.],\n",
       "        [12., 12., 12., 12., 12., 12., 12., 12.],\n",
       "        [12., 12., 12., 12., 12., 12., 12., 12.]],\n",
       "\n",
       "       [[12., 12., 12., 12., 12., 12., 12., 12.],\n",
       "        [12., 12., 12., 12., 12., 12., 12., 12.],\n",
       "        [12., 12., 12., 12., 12., 12., 12., 12.],\n",
       "        [12., 12., 12., 12., 12., 12., 12., 12.]],\n",
       "\n",
       "       [[12., 12., 12., 12., 12., 12., 12., 12.],\n",
       "        [12., 12., 12., 12., 12., 12., 12., 12.],\n",
       "        [12., 12., 12., 12., 12., 12., 12., 12.],\n",
       "        [12., 12., 12., 12., 12., 12., 12., 12.]]])"
      ]
     },
     "execution_count": 274,
     "metadata": {},
     "output_type": "execute_result"
    }
   ],
   "source": [
    "k*2"
   ]
  },
  {
   "cell_type": "code",
   "execution_count": 280,
   "id": "0be3d671",
   "metadata": {},
   "outputs": [],
   "source": [
    "x1 = np.ones((3,3))"
   ]
  },
  {
   "cell_type": "code",
   "execution_count": 283,
   "id": "76c9dcd2",
   "metadata": {},
   "outputs": [],
   "source": [
    "x2 = np.zeros((3,3))"
   ]
  },
  {
   "cell_type": "code",
   "execution_count": 284,
   "id": "5536c7cc",
   "metadata": {},
   "outputs": [],
   "source": [
    "y = x1+x1"
   ]
  },
  {
   "cell_type": "code",
   "execution_count": 285,
   "id": "22a6abae",
   "metadata": {},
   "outputs": [
    {
     "data": {
      "text/plain": [
       "array([[2., 2., 2.],\n",
       "       [2., 2., 2.],\n",
       "       [2., 2., 2.]])"
      ]
     },
     "execution_count": 285,
     "metadata": {},
     "output_type": "execute_result"
    }
   ],
   "source": [
    "y"
   ]
  },
  {
   "cell_type": "code",
   "execution_count": 293,
   "id": "e58b514c",
   "metadata": {},
   "outputs": [],
   "source": [
    "u = np.arange(4,8)"
   ]
  },
  {
   "cell_type": "code",
   "execution_count": 294,
   "id": "2c5e7536",
   "metadata": {},
   "outputs": [
    {
     "data": {
      "text/plain": [
       "array([4, 5, 6, 7])"
      ]
     },
     "execution_count": 294,
     "metadata": {},
     "output_type": "execute_result"
    }
   ],
   "source": [
    "u"
   ]
  },
  {
   "cell_type": "code",
   "execution_count": 295,
   "id": "ae3da2ab",
   "metadata": {},
   "outputs": [],
   "source": [
    "u1 = np.linspace(4,8,80)"
   ]
  },
  {
   "cell_type": "code",
   "execution_count": 296,
   "id": "45912f5f",
   "metadata": {},
   "outputs": [
    {
     "data": {
      "text/plain": [
       "array([4.        , 4.05063291, 4.10126582, 4.15189873, 4.20253165,\n",
       "       4.25316456, 4.30379747, 4.35443038, 4.40506329, 4.4556962 ,\n",
       "       4.50632911, 4.55696203, 4.60759494, 4.65822785, 4.70886076,\n",
       "       4.75949367, 4.81012658, 4.86075949, 4.91139241, 4.96202532,\n",
       "       5.01265823, 5.06329114, 5.11392405, 5.16455696, 5.21518987,\n",
       "       5.26582278, 5.3164557 , 5.36708861, 5.41772152, 5.46835443,\n",
       "       5.51898734, 5.56962025, 5.62025316, 5.67088608, 5.72151899,\n",
       "       5.7721519 , 5.82278481, 5.87341772, 5.92405063, 5.97468354,\n",
       "       6.02531646, 6.07594937, 6.12658228, 6.17721519, 6.2278481 ,\n",
       "       6.27848101, 6.32911392, 6.37974684, 6.43037975, 6.48101266,\n",
       "       6.53164557, 6.58227848, 6.63291139, 6.6835443 , 6.73417722,\n",
       "       6.78481013, 6.83544304, 6.88607595, 6.93670886, 6.98734177,\n",
       "       7.03797468, 7.08860759, 7.13924051, 7.18987342, 7.24050633,\n",
       "       7.29113924, 7.34177215, 7.39240506, 7.44303797, 7.49367089,\n",
       "       7.5443038 , 7.59493671, 7.64556962, 7.69620253, 7.74683544,\n",
       "       7.79746835, 7.84810127, 7.89873418, 7.94936709, 8.        ])"
      ]
     },
     "execution_count": 296,
     "metadata": {},
     "output_type": "execute_result"
    }
   ],
   "source": [
    "u1"
   ]
  },
  {
   "cell_type": "code",
   "execution_count": 307,
   "id": "a31e2c16",
   "metadata": {},
   "outputs": [],
   "source": [
    "x = np.arange(16)"
   ]
  },
  {
   "cell_type": "code",
   "execution_count": 308,
   "id": "ce254f5c",
   "metadata": {},
   "outputs": [
    {
     "data": {
      "text/plain": [
       "array([[ 0,  1,  2,  3],\n",
       "       [ 4,  5,  6,  7],\n",
       "       [ 8,  9, 10, 11],\n",
       "       [12, 13, 14, 15]])"
      ]
     },
     "execution_count": 308,
     "metadata": {},
     "output_type": "execute_result"
    }
   ],
   "source": [
    "x.reshape(4,4)"
   ]
  },
  {
   "cell_type": "code",
   "execution_count": 309,
   "id": "d22762de",
   "metadata": {},
   "outputs": [
    {
     "data": {
      "text/plain": [
       "array([[ 0,  1,  2,  3,  4,  5,  6,  7],\n",
       "       [ 8,  9, 10, 11, 12, 13, 14, 15]])"
      ]
     },
     "execution_count": 309,
     "metadata": {},
     "output_type": "execute_result"
    }
   ],
   "source": [
    "x.reshape(2,8)"
   ]
  },
  {
   "cell_type": "code",
   "execution_count": 310,
   "id": "ea67ae7e",
   "metadata": {},
   "outputs": [
    {
     "data": {
      "text/plain": [
       "array([[ 0,  1],\n",
       "       [ 2,  3],\n",
       "       [ 4,  5],\n",
       "       [ 6,  7],\n",
       "       [ 8,  9],\n",
       "       [10, 11],\n",
       "       [12, 13],\n",
       "       [14, 15]])"
      ]
     },
     "execution_count": 310,
     "metadata": {},
     "output_type": "execute_result"
    }
   ],
   "source": [
    "x.reshape(8,2)"
   ]
  },
  {
   "cell_type": "code",
   "execution_count": 311,
   "id": "b988ad58",
   "metadata": {},
   "outputs": [
    {
     "data": {
      "text/plain": [
       "array([[[ 0,  1,  2,  3],\n",
       "        [ 4,  5,  6,  7]],\n",
       "\n",
       "       [[ 8,  9, 10, 11],\n",
       "        [12, 13, 14, 15]]])"
      ]
     },
     "execution_count": 311,
     "metadata": {},
     "output_type": "execute_result"
    }
   ],
   "source": [
    "x.reshape(2,2,4)"
   ]
  },
  {
   "cell_type": "code",
   "execution_count": 319,
   "id": "94ff4c75",
   "metadata": {},
   "outputs": [
    {
     "data": {
      "text/plain": [
       "array([[ 0,  1,  2,  3],\n",
       "       [ 4,  5,  6,  7],\n",
       "       [ 8,  9, 10, 11],\n",
       "       [12, 13, 14, 15]])"
      ]
     },
     "execution_count": 319,
     "metadata": {},
     "output_type": "execute_result"
    }
   ],
   "source": [
    "x.reshape((-4,4))"
   ]
  },
  {
   "cell_type": "code",
   "execution_count": 336,
   "id": "47726675",
   "metadata": {},
   "outputs": [],
   "source": [
    "x1 = np.arange(12)\n",
    "#np.diag(x1,0)"
   ]
  },
  {
   "cell_type": "code",
   "execution_count": 341,
   "id": "c3a877d7",
   "metadata": {},
   "outputs": [],
   "source": [
    "x2 =x1.reshape(3,4)"
   ]
  },
  {
   "cell_type": "code",
   "execution_count": 351,
   "id": "bf2bae76",
   "metadata": {},
   "outputs": [],
   "source": [
    "l = \"harish\""
   ]
  },
  {
   "cell_type": "code",
   "execution_count": 352,
   "id": "624170fa",
   "metadata": {},
   "outputs": [
    {
     "data": {
      "text/plain": [
       "'Harish'"
      ]
     },
     "execution_count": 352,
     "metadata": {},
     "output_type": "execute_result"
    }
   ],
   "source": [
    "l.title()"
   ]
  },
  {
   "cell_type": "code",
   "execution_count": 361,
   "id": "7f4ad048",
   "metadata": {},
   "outputs": [],
   "source": [
    "s =np.random.randint(4,16,15)"
   ]
  },
  {
   "cell_type": "code",
   "execution_count": 362,
   "id": "b1cc7d85",
   "metadata": {},
   "outputs": [
    {
     "name": "stdout",
     "output_type": "stream",
     "text": [
      "10\n",
      "8\n",
      "4\n",
      "9\n",
      "15\n",
      "14\n",
      "13\n",
      "11\n",
      "12\n",
      "10\n",
      "7\n",
      "9\n",
      "5\n",
      "5\n",
      "7\n"
     ]
    }
   ],
   "source": [
    "for i in s:\n",
    "    print(i)"
   ]
  },
  {
   "cell_type": "code",
   "execution_count": null,
   "id": "b24eb67d",
   "metadata": {},
   "outputs": [],
   "source": []
  }
 ],
 "metadata": {
  "kernelspec": {
   "display_name": "Python 3 (ipykernel)",
   "language": "python",
   "name": "python3"
  },
  "language_info": {
   "codemirror_mode": {
    "name": "ipython",
    "version": 3
   },
   "file_extension": ".py",
   "mimetype": "text/x-python",
   "name": "python",
   "nbconvert_exporter": "python",
   "pygments_lexer": "ipython3",
   "version": "3.9.7"
  }
 },
 "nbformat": 4,
 "nbformat_minor": 5
}
