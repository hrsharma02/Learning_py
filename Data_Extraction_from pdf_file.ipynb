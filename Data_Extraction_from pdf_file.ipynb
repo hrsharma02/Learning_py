{
 "cells": [
  {
   "cell_type": "markdown",
   "id": "2e209e0b",
   "metadata": {},
   "source": [
    "Collecting data from pdf\n",
    "#Step 2-1 Install and import all the necessary libraries.\n"
   ]
  },
  {
   "cell_type": "code",
   "execution_count": 1,
   "id": "8f5466a8",
   "metadata": {},
   "outputs": [],
   "source": [
    "import PyPDF2\n",
    "from PyPDF2 import PdfFileReader"
   ]
  },
  {
   "cell_type": "code",
   "execution_count": 2,
   "id": "ce36591f",
   "metadata": {},
   "outputs": [
    {
     "name": "stdout",
     "output_type": "stream",
     "text": [
      "Requirement already satisfied: parse in c:\\users\\harish sharma\\anaconda3\\lib\\site-packages (1.19.0)\n"
     ]
    }
   ],
   "source": [
    "!pip install parse"
   ]
  },
  {
   "cell_type": "code",
   "execution_count": 3,
   "id": "ab72b85a",
   "metadata": {},
   "outputs": [],
   "source": [
    "import os\n",
    "os.chdir('D:\\Pyhton_data')"
   ]
  },
  {
   "cell_type": "code",
   "execution_count": 4,
   "id": "dffda23b",
   "metadata": {},
   "outputs": [],
   "source": [
    "pdf = open(\"Natural Language Processing Recipes.pdf\",\"rb\")"
   ]
  },
  {
   "cell_type": "code",
   "execution_count": 5,
   "id": "71537083",
   "metadata": {},
   "outputs": [
    {
     "data": {
      "text/plain": [
       "'D:\\\\Pyhton_data'"
      ]
     },
     "execution_count": 5,
     "metadata": {},
     "output_type": "execute_result"
    }
   ],
   "source": [
    "pwd"
   ]
  },
  {
   "cell_type": "markdown",
   "id": "61d3dcf8",
   "metadata": {},
   "source": [
    "Creating reader object"
   ]
  },
  {
   "cell_type": "code",
   "execution_count": 6,
   "id": "d265e367",
   "metadata": {},
   "outputs": [
    {
     "name": "stderr",
     "output_type": "stream",
     "text": [
      "PdfReadWarning: Xref table not zero-indexed. ID numbers for objects will be corrected. [pdf.py:1736]\n"
     ]
    }
   ],
   "source": [
    "pdf_reader = PyPDF2.PdfFileReader(pdf)"
   ]
  },
  {
   "cell_type": "markdown",
   "id": "b54e1f58",
   "metadata": {},
   "source": [
    "#checking number of pages in a pdf file"
   ]
  },
  {
   "cell_type": "code",
   "execution_count": 7,
   "id": "2bc862a8",
   "metadata": {},
   "outputs": [
    {
     "name": "stdout",
     "output_type": "stream",
     "text": [
      "253\n"
     ]
    }
   ],
   "source": [
    "print(pdf_reader.numPages)"
   ]
  },
  {
   "cell_type": "code",
   "execution_count": 8,
   "id": "bd4ccad0",
   "metadata": {},
   "outputs": [],
   "source": [
    "#creating a page object"
   ]
  },
  {
   "cell_type": "code",
   "execution_count": 9,
   "id": "5830962c",
   "metadata": {},
   "outputs": [],
   "source": [
    "page = pdf_reader.getPage(31)"
   ]
  },
  {
   "cell_type": "code",
   "execution_count": 10,
   "id": "45b4efdf",
   "metadata": {},
   "outputs": [],
   "source": [
    "#finally extracting text from the page"
   ]
  },
  {
   "cell_type": "code",
   "execution_count": 11,
   "id": "48afb5d4",
   "metadata": {},
   "outputs": [],
   "source": [
    "import pandas as pd\n",
    "import numpy as np"
   ]
  },
  {
   "cell_type": "code",
   "execution_count": 12,
   "id": "15f88dc6",
   "metadata": {},
   "outputs": [
    {
     "name": "stdout",
     "output_type": "stream",
     "text": [
      "9\n",
      " \n",
      "How It Works\n",
      "Let™s follow the steps in this section to extract data from the JSON.\n",
      " \n",
      "Step 4-1 Install and˜import all the˜necessary libraries\n",
      "Here is the code for importing the libraries.\n",
      "import requests\n",
      "import json\n",
      " \n",
      "Step 4-2 Extracting text from˜JSON file\n",
      "Now we extract the text.\n",
      "#json from \"https://quotes.rest/qod.json\"\n",
      "r = requests.get(\"https://quotes.rest/qod.json\")\n",
      "res = r.json()\n",
      "print(json.dumps(res, indent = 4))\n",
      "#output\n",
      "{\n",
      "    \n",
      "\"success\": {\n",
      "        \n",
      "\"total\": 1\n",
      "    \n",
      "},\n",
      "    \n",
      "\"contents\": {\n",
      "        \n",
      "\"quotes\": [\n",
      "            \n",
      "{\n",
      "                 \n",
      "\"quote\": \n",
      " \n",
      "\"Where there is ruin, there is hope \n",
      "for a treasure.\",\n",
      "                \n",
      "\"length\": \"50\",\n",
      "                \n",
      "\"author\": \"Rumi\",\n",
      "                \n",
      "\"tags\": [\n",
      "                    \n",
      "\"failure\",\n",
      "CH\n",
      "AP\n",
      "T\n",
      "E\n",
      "R 1 \n",
      " EXTR\n",
      "AC\n",
      "TING TH\n",
      "E\n",
      "˜D\n",
      "A\n",
      "T\n",
      "A\n",
      "\n"
     ]
    }
   ],
   "source": [
    "a = pd.DataFrame(print(page.extractText()))"
   ]
  },
  {
   "cell_type": "code",
   "execution_count": 13,
   "id": "74d79db8",
   "metadata": {},
   "outputs": [],
   "source": [
    "g = a.to_excel(\"pdfdata.xlsx\")"
   ]
  },
  {
   "cell_type": "code",
   "execution_count": 14,
   "id": "20e8fd9f",
   "metadata": {},
   "outputs": [
    {
     "data": {
      "text/plain": [
       "<bound method NDFrame.describe of Empty DataFrame\n",
       "Columns: []\n",
       "Index: []>"
      ]
     },
     "execution_count": 14,
     "metadata": {},
     "output_type": "execute_result"
    }
   ],
   "source": [
    "a.describe"
   ]
  },
  {
   "cell_type": "code",
   "execution_count": 15,
   "id": "37aa742c",
   "metadata": {},
   "outputs": [
    {
     "name": "stdout",
     "output_type": "stream",
     "text": [
      "Requirement already satisfied: pdfplumber in c:\\users\\harish sharma\\anaconda3\\lib\\site-packages (0.6.0)\n",
      "Requirement already satisfied: Pillow>=8.4 in c:\\users\\harish sharma\\anaconda3\\lib\\site-packages (from pdfplumber) (8.4.0)\n",
      "Requirement already satisfied: pdfminer.six==20211012 in c:\\users\\harish sharma\\anaconda3\\lib\\site-packages (from pdfplumber) (20211012)\n",
      "Requirement already satisfied: Wand>=0.6.7 in c:\\users\\harish sharma\\anaconda3\\lib\\site-packages (from pdfplumber) (0.6.7)\n",
      "Requirement already satisfied: chardet in c:\\users\\harish sharma\\anaconda3\\lib\\site-packages (from pdfminer.six==20211012->pdfplumber) (4.0.0)\n",
      "Requirement already satisfied: cryptography in c:\\users\\harish sharma\\anaconda3\\lib\\site-packages (from pdfminer.six==20211012->pdfplumber) (3.4.8)\n",
      "Requirement already satisfied: cffi>=1.12 in c:\\users\\harish sharma\\anaconda3\\lib\\site-packages (from cryptography->pdfminer.six==20211012->pdfplumber) (1.14.6)\n",
      "Requirement already satisfied: pycparser in c:\\users\\harish sharma\\anaconda3\\lib\\site-packages (from cffi>=1.12->cryptography->pdfminer.six==20211012->pdfplumber) (2.20)\n"
     ]
    }
   ],
   "source": [
    "!pip install pdfplumber"
   ]
  },
  {
   "cell_type": "code",
   "execution_count": 3,
   "id": "2b3b6555",
   "metadata": {},
   "outputs": [
    {
     "name": "stdout",
     "output_type": "stream",
     "text": [
      "Collecting gTTS"
     ]
    },
    {
     "name": "stderr",
     "output_type": "stream",
     "text": [
      "WARNING: Retrying (Retry(total=4, connect=None, read=None, redirect=None, status=None)) after connection broken by 'NewConnectionError('<pip._vendor.urllib3.connection.HTTPSConnection object at 0x0000021EBF839C10>: Failed to establish a new connection: [Errno 11001] getaddrinfo failed')': /simple/gtts/\n",
      "WARNING: Retrying (Retry(total=3, connect=None, read=None, redirect=None, status=None)) after connection broken by 'NewConnectionError('<pip._vendor.urllib3.connection.HTTPSConnection object at 0x0000021EBF839940>: Failed to establish a new connection: [Errno 11001] getaddrinfo failed')': /simple/gtts/\n"
     ]
    },
    {
     "name": "stdout",
     "output_type": "stream",
     "text": [
      "\n",
      "  Downloading gTTS-2.2.3-py3-none-any.whl (25 kB)\n",
      "Requirement already satisfied: click in c:\\users\\harish sharma\\anaconda3\\lib\\site-packages (from gTTS) (8.0.3)\n",
      "Requirement already satisfied: requests in c:\\users\\harish sharma\\anaconda3\\lib\\site-packages (from gTTS) (2.26.0)\n",
      "Requirement already satisfied: six in c:\\users\\harish sharma\\anaconda3\\lib\\site-packages (from gTTS) (1.16.0)\n",
      "Requirement already satisfied: colorama in c:\\users\\harish sharma\\anaconda3\\lib\\site-packages (from click->gTTS) (0.4.4)\n",
      "Requirement already satisfied: idna<4,>=2.5 in c:\\users\\harish sharma\\anaconda3\\lib\\site-packages (from requests->gTTS) (3.2)\n",
      "Requirement already satisfied: certifi>=2017.4.17 in c:\\users\\harish sharma\\anaconda3\\lib\\site-packages (from requests->gTTS) (2021.10.8)\n",
      "Requirement already satisfied: charset-normalizer~=2.0.0 in c:\\users\\harish sharma\\anaconda3\\lib\\site-packages (from requests->gTTS) (2.0.4)\n",
      "Requirement already satisfied: urllib3<1.27,>=1.21.1 in c:\\users\\harish sharma\\anaconda3\\lib\\site-packages (from requests->gTTS) (1.26.7)\n",
      "Installing collected packages: gTTS\n",
      "Successfully installed gTTS-2.2.3\n"
     ]
    }
   ],
   "source": [
    "!pip install gTTS"
   ]
  },
  {
   "cell_type": "code",
   "execution_count": 16,
   "id": "66bf0817",
   "metadata": {},
   "outputs": [],
   "source": [
    "import os\n",
    "from gtts import gTTS\n",
    "#chooses the language, English('en')\n",
    "myobj = gTTS(text='I like this NLP book', lang='en', slow=False)\n",
    "# Saving the converted audio in a mp3 file named\n",
    "\n",
    "myobj.save(\"convert.mp3\")"
   ]
  },
  {
   "cell_type": "code",
   "execution_count": 17,
   "id": "e0500636",
   "metadata": {},
   "outputs": [
    {
     "data": {
      "text/plain": [
       "1"
      ]
     },
     "execution_count": 17,
     "metadata": {},
     "output_type": "execute_result"
    }
   ],
   "source": [
    "os.system(\"mpg321 convert.mp3\")"
   ]
  },
  {
   "cell_type": "code",
   "execution_count": 18,
   "id": "45afa353",
   "metadata": {},
   "outputs": [
    {
     "name": "stdout",
     "output_type": "stream",
     "text": [
      "Collecting playsound\n",
      "  Downloading playsound-1.3.0.tar.gz (7.7 kB)\n",
      "Building wheels for collected packages: playsound\n",
      "  Building wheel for playsound (setup.py): started\n",
      "  Building wheel for playsound (setup.py): finished with status 'done'\n",
      "  Created wheel for playsound: filename=playsound-1.3.0-py3-none-any.whl size=7037 sha256=1e8446440fd9615a41abc93d932658798f480309b6c114012afe5d2b85055116\n",
      "  Stored in directory: c:\\users\\harish sharma\\appdata\\local\\pip\\cache\\wheels\\ba\\39\\54\\c8f7ff9a88a644d3c58b4dec802d90b79a2e0fb2a6b884bf82\n",
      "Successfully built playsound\n",
      "Installing collected packages: playsound\n",
      "Successfully installed playsound-1.3.0\n"
     ]
    },
    {
     "data": {
      "text/plain": [
       "0"
      ]
     },
     "execution_count": 18,
     "metadata": {},
     "output_type": "execute_result"
    }
   ],
   "source": [
    "!pip install playsound\n",
    "from playsound import playsound\n",
    "os.system(\"convert.mp3\")"
   ]
  },
  {
   "cell_type": "code",
   "execution_count": 14,
   "id": "c5c627fa",
   "metadata": {},
   "outputs": [
    {
     "data": {
      "text/plain": [
       "'D:\\\\Pyhton_data'"
      ]
     },
     "execution_count": 14,
     "metadata": {},
     "output_type": "execute_result"
    }
   ],
   "source": [
    "pwd"
   ]
  },
  {
   "cell_type": "code",
   "execution_count": 15,
   "id": "4745a5bf",
   "metadata": {},
   "outputs": [
    {
     "name": "stdout",
     "output_type": "stream",
     "text": [
      " Volume in drive D is New Volume\n",
      " Volume Serial Number is 5E6A-86A7\n",
      "\n",
      " Directory of D:\\Pyhton_data\n",
      "\n",
      "27-01-2022  23:15    <DIR>          .\n",
      "27-01-2022  23:15    <DIR>          ..\n",
      "27-01-2022  21:12    <DIR>          .ipynb_checkpoints\n",
      "30-12-2021  12:51                28 abc.txt\n",
      "28-09-2019  00:27            12,903 Admission_Predict.csv\n",
      "28-09-2019  00:27            16,176 Admission_Predict_Ver1.1.csv\n",
      "27-01-2022  10:06            66,997 Baisc core_python.ipynb\n",
      "27-01-2022  10:26            13,962 Basic Prectice.ipynb\n",
      "25-11-2021  14:18           455,969 certificate.jpg.jpg\n",
      "26-11-2021  15:55             7,318 certificate1.jpg\n",
      "27-01-2022  23:11             8,832 convert.mp3\n",
      "27-01-2022  23:15            11,649 Data_Extraction.ipynb\n",
      "03-01-2022  12:22           328,358 datasets.csv\n",
      "29-11-2021  14:16                78 demofile.txt.txt\n",
      "02-12-2021  11:11            58,516 Excel_practice.ipynb\n",
      "14-12-2021  16:54           310,505 Exception Handling - Jupyter Notebook.html\n",
      "14-12-2021  16:54    <DIR>          Exception Handling - Jupyter Notebook_files\n",
      "16-12-2021  17:07            31,753 Exception Handling.ipynb\n",
      "14-12-2021  12:14            24,985 Exceptional handling file.ipynb\n",
      "29-11-2021  14:24             3,767 File1.ipynb\n",
      "30-12-2021  12:40                 0 file1.txt\n",
      "04-01-2022  14:47               560 finilized_model.pickle\n",
      "04-01-2022  14:48               476 finilized_Ridge_model\n",
      "14-12-2021  16:34             9,966 HARISH SHARMA.xls\n",
      "26-11-2021  15:46                63 harish.csv\n",
      "12-01-2022  16:01           188,859 HarishSharmaResume.pdf\n",
      "21-01-2022  13:59             6,408 Hindi.xlsx\n",
      "21-12-2021  14:58            81,979 Houseprice.ipynb\n",
      "21-12-2021  11:44            40,203 Linear_regression.ipynb\n",
      "26-11-2021  16:11             8,824 list.xlsx\n",
      "31-12-2021  17:01           899,130 Matplotlib_practice.ipynb\n",
      "04-01-2022  14:42             6,375 model_accuracy.png\n",
      "14-12-2021  15:58             8,192 my_database3.db\n",
      "21-01-2022  16:04         4,008,665 Natural Language Processing Recipes.pdf\n",
      "21-01-2022  16:21            46,549 NLP_Project.ipynb\n",
      "17-12-2021  17:39            35,756 Numpy.ipynb\n",
      "04-01-2022  12:16            23,880 output1.xlsx\n",
      "03-01-2022  15:02            14,217 Pandas.ipynb\n",
      "21-01-2022  15:17    <DIR>          pictures\n",
      "30-12-2021  14:37            37,917 Practice.ipynb\n",
      "21-01-2022  16:31           265,499 Pridict_admission.ipynb\n",
      "16-12-2021  17:07            12,124 Python Assignment4.ipynb\n",
      "27-01-2022  21:12           354,654 Sample Report Pythonic.pdf\n",
      "10-12-2021  15:24            43,579 set tuples dict and for loop(1).ipynb\n",
      "29-11-2021  14:29                96 student.txt.txt\n",
      "12-04-2012  16:08            56,993 student-mat.csv\n",
      "14-12-2021  13:02                20 testfile\n",
      "14-12-2021  13:02                 0 testsys\n",
      "14-01-2022  14:10             2,252 Untitled.ipynb\n",
      "26-11-2021  16:59               500 untitled0.py\n",
      "29-11-2021  14:31            85,132 Untitled1.ipynb\n",
      "26-11-2021  16:59               475 untitled1.py\n",
      "09-12-2021  09:51             3,568 Untitled2.ipynb\n",
      "26-11-2021  16:59               476 untitled2.py\n",
      "15-12-2021  16:06            16,414 Untitled3.ipynb\n",
      "26-11-2021  16:59             1,055 untitled3.py\n",
      "21-12-2021  16:48             6,708 Untitled4.ipynb\n",
      "27-01-2022  21:13            35,528 Untitled5.ipynb\n",
      "27-01-2022  21:42            13,550 Untitled6.ipynb\n",
      "              54 File(s)      7,668,438 bytes\n",
      "               5 Dir(s)  596,366,176,256 bytes free\n"
     ]
    }
   ],
   "source": [
    "ls"
   ]
  },
  {
   "cell_type": "code",
   "execution_count": 23,
   "id": "e685d696",
   "metadata": {},
   "outputs": [],
   "source": [
    "myobj = gTTS(text='I will be a data scientis within a month from now', lang='en', slow=False)\n",
    "# Saving the converted audio in a mp3 file named\n",
    "\n",
    "myobj.save(\"convert1.mp3\")"
   ]
  },
  {
   "cell_type": "code",
   "execution_count": 24,
   "id": "cd857bdb",
   "metadata": {},
   "outputs": [
    {
     "data": {
      "text/plain": [
       "0"
      ]
     },
     "execution_count": 24,
     "metadata": {},
     "output_type": "execute_result"
    }
   ],
   "source": [
    "os.system(\"convert1.mp3\")"
   ]
  },
  {
   "cell_type": "code",
   "execution_count": 22,
   "id": "0ceb7dc5",
   "metadata": {},
   "outputs": [],
   "source": [
    "myobj = gTTS(text='ab muje koi bhi nahi rok sakta ', lang='en', slow=False)\n",
    "# Saving the converted audio in a mp3 file named\n",
    "\n",
    "myobj.save(\"convert2.mp3\")"
   ]
  },
  {
   "cell_type": "code",
   "execution_count": 25,
   "id": "31c01daa",
   "metadata": {},
   "outputs": [],
   "source": [
    "#ossystemstem('convert2.mp3')"
   ]
  },
  {
   "cell_type": "code",
   "execution_count": 31,
   "id": "bb6db17b",
   "metadata": {},
   "outputs": [],
   "source": [
    "myobject = gTTS(text = 'aaj kal me bahut hard work kar rha hun', lang ='hi', slow = False)\n",
    "myobject.save('hindi.mp3')"
   ]
  },
  {
   "cell_type": "code",
   "execution_count": 30,
   "id": "23bc0eee",
   "metadata": {},
   "outputs": [
    {
     "data": {
      "text/plain": [
       "0"
      ]
     },
     "execution_count": 30,
     "metadata": {},
     "output_type": "execute_result"
    }
   ],
   "source": [
    "os.system('hindi.mp3')\n"
   ]
  },
  {
   "cell_type": "code",
   "execution_count": null,
   "id": "b2339d8b",
   "metadata": {},
   "outputs": [],
   "source": []
  }
 ],
 "metadata": {
  "kernelspec": {
   "display_name": "Python 3 (ipykernel)",
   "language": "python",
   "name": "python3"
  },
  "language_info": {
   "codemirror_mode": {
    "name": "ipython",
    "version": 3
   },
   "file_extension": ".py",
   "mimetype": "text/x-python",
   "name": "python",
   "nbconvert_exporter": "python",
   "pygments_lexer": "ipython3",
   "version": "3.9.7"
  }
 },
 "nbformat": 4,
 "nbformat_minor": 5
}
