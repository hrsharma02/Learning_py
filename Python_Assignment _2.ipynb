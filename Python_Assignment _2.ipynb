{
 "cells": [
  {
   "cell_type": "code",
   "execution_count": 1,
   "id": "4e2ab1b9",
   "metadata": {},
   "outputs": [],
   "source": [
    "#Pattern using nested for loop in pyhton"
   ]
  },
  {
   "cell_type": "code",
   "execution_count": 1,
   "id": "717d726e",
   "metadata": {},
   "outputs": [
    {
     "name": "stdout",
     "output_type": "stream",
     "text": [
      "*\n",
      "**\n",
      "***\n",
      "****\n",
      "*****\n",
      "****\n",
      "***\n",
      "**\n",
      "*\n",
      "\n"
     ]
    }
   ],
   "source": [
    "for i in range(0,5,1):\n",
    "    print(i*\"\" + (i+1) * \"*\")\n",
    "for j in range(5,0,-1):\n",
    "    print(j*\"\" + (j-1)* \"*\")\n"
   ]
  },
  {
   "cell_type": "code",
   "execution_count": 2,
   "id": "09e23f1f",
   "metadata": {},
   "outputs": [
    {
     "name": "stdout",
     "output_type": "stream",
     "text": [
      "Enter any word  INEURON\n",
      "NORUENI\n"
     ]
    }
   ],
   "source": [
    "a = input(\"Enter any word  \")\n",
    "print(a[::-1])\n"
   ]
  },
  {
   "cell_type": "code",
   "execution_count": 3,
   "id": "9200f701",
   "metadata": {},
   "outputs": [],
   "source": [
    "j = \"INEURON\""
   ]
  },
  {
   "cell_type": "code",
   "execution_count": 4,
   "id": "777d4708",
   "metadata": {},
   "outputs": [
    {
     "data": {
      "text/plain": [
       "'NORUENI'"
      ]
     },
     "execution_count": 4,
     "metadata": {},
     "output_type": "execute_result"
    }
   ],
   "source": [
    "j[::-1]"
   ]
  },
  {
   "cell_type": "code",
   "execution_count": null,
   "id": "d3702890",
   "metadata": {},
   "outputs": [],
   "source": []
  },
  {
   "cell_type": "code",
   "execution_count": 9,
   "id": "8d9d62d4",
   "metadata": {},
   "outputs": [
    {
     "name": "stdout",
     "output_type": "stream",
     "text": [
      "100\n"
     ]
    }
   ],
   "source": [
    "def myreduce(add,list_1):\n",
    "    return a\n",
    "def add(a,b):\n",
    "    return a+b\n",
    "list_1=[10,15,25,40,10]\n",
    "a=list_1[0]\n",
    "for i in range(1,len(list_1)):\n",
    "    b=list_1[i]\n",
    "    a=add(a,b)\n",
    "print(myreduce(add,list_1))"
   ]
  },
  {
   "cell_type": "code",
   "execution_count": 15,
   "id": "d240f908",
   "metadata": {},
   "outputs": [
    {
     "data": {
      "text/plain": [
       "21"
      ]
     },
     "execution_count": 15,
     "metadata": {},
     "output_type": "execute_result"
    }
   ],
   "source": [
    "from functools import reduce\n",
    "def sum(a,b):\n",
    "    return a+b\n",
    "list_1=[1,2,3,4,5,6]\n",
    "reduce(sum,list_1)"
   ]
  },
  {
   "cell_type": "code",
   "execution_count": 10,
   "id": "c9decba8",
   "metadata": {},
   "outputs": [
    {
     "name": "stdout",
     "output_type": "stream",
     "text": [
      "21\n"
     ]
    }
   ],
   "source": [
    "def myreducefunc(add,list1):\n",
    "    return a\n",
    "def add(a,b):\n",
    "    return a+b\n",
    "list1=[1,2,3,4,5,6]\n",
    "a=list1[0]\n",
    "for i in range(1,len(list1)):\n",
    "    b=list1[i]\n",
    "    a=add(a,b)\n",
    "print(myreducefunc(add,list1))"
   ]
  },
  {
   "cell_type": "code",
   "execution_count": 13,
   "id": "fb527c31",
   "metadata": {},
   "outputs": [
    {
     "name": "stdout",
     "output_type": "stream",
     "text": [
      "21\n"
     ]
    }
   ],
   "source": [
    "def myreducefunc(add,list1):\n",
    "    return a\n",
    "def add(a,b):\n",
    "    return a+b\n",
    "list1=[1,2,3,4,5,6]\n",
    "a=list1[0]\n",
    "for i in range(1,len(list1)):\n",
    "    b=list1[i]\n",
    "    a=add(a,b)\n",
    "print(myreducefunc(add,list1))"
   ]
  },
  {
   "cell_type": "code",
   "execution_count": 17,
   "id": "f76c35c9",
   "metadata": {},
   "outputs": [
    {
     "data": {
      "text/plain": [
       "720"
      ]
     },
     "execution_count": 17,
     "metadata": {},
     "output_type": "execute_result"
    }
   ],
   "source": [
    "from functools import reduce\n",
    "def multiply(a,b):\n",
    "    return a*b\n",
    "list_1=[1,2,3,4,5,6]\n",
    "reduce(multiply,list_1)"
   ]
  },
  {
   "cell_type": "code",
   "execution_count": 18,
   "id": "86d72e0b",
   "metadata": {},
   "outputs": [
    {
     "name": "stdout",
     "output_type": "stream",
     "text": [
      "720\n"
     ]
    }
   ],
   "source": [
    "def myreducefunc(add,list1):\n",
    "    return a\n",
    "def multiply(a,b):\n",
    "    return a*b\n",
    "list1=[1,2,3,4,5,6]\n",
    "a=list1[0]\n",
    "for i in range(1,len(list1)):\n",
    "    b=list1[i]\n",
    "    a=multiply(a,b)\n",
    "print(myreducefunc(add,list1))"
   ]
  },
  {
   "cell_type": "code",
   "execution_count": null,
   "id": "cfdc7ac0",
   "metadata": {},
   "outputs": [],
   "source": []
  }
 ],
 "metadata": {
  "kernelspec": {
   "display_name": "Python 3",
   "language": "python",
   "name": "python3"
  },
  "language_info": {
   "codemirror_mode": {
    "name": "ipython",
    "version": 3
   },
   "file_extension": ".py",
   "mimetype": "text/x-python",
   "name": "python",
   "nbconvert_exporter": "python",
   "pygments_lexer": "ipython3",
   "version": "3.8.8"
  }
 },
 "nbformat": 4,
 "nbformat_minor": 5
}
