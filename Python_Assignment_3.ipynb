{
 "cells": [
  {
   "cell_type": "code",
   "execution_count": 2,
   "id": "4b15b111",
   "metadata": {},
   "outputs": [
    {
     "data": {
      "text/plain": [
       "\"Write a Python Program to implement your own myreduce() function which works exactly\\nlike Python's built-in function reduce()\""
      ]
     },
     "execution_count": 2,
     "metadata": {},
     "output_type": "execute_result"
    }
   ],
   "source": [
    "\"\"\"Write a Python Program to implement your own myreduce() function which works exactly\n",
    "like Python's built-in function reduce()\"\"\""
   ]
  },
  {
   "cell_type": "code",
   "execution_count": 14,
   "id": "db99c542",
   "metadata": {},
   "outputs": [
    {
     "data": {
      "text/plain": [
       "21"
      ]
     },
     "execution_count": 14,
     "metadata": {},
     "output_type": "execute_result"
    }
   ],
   "source": [
    "#Calculating sum using reduce function\n",
    "from functools import reduce\n",
    "def sum(a,b):\n",
    "    return a+b\n",
    "list1=[1,2,3,4,5,6]\n",
    "reduce(sum,list1)"
   ]
  },
  {
   "cell_type": "code",
   "execution_count": 31,
   "id": "503ec11e",
   "metadata": {},
   "outputs": [
    {
     "name": "stdout",
     "output_type": "stream",
     "text": [
      "21\n"
     ]
    }
   ],
   "source": [
    "def myreduce(add,list1):\n",
    "    return a\n",
    "def add(a,b):\n",
    "    return a+b\n",
    "list1=[1,2,3,4,5,6]\n",
    "a=list1[0]\n",
    "for i in range(1,len(list1)):\n",
    "    b=list1[i]\n",
    "    a=add(a,b)\n",
    "print(myreduce(add,list1))"
   ]
  },
  {
   "cell_type": "code",
   "execution_count": 16,
   "id": "9fc9561b",
   "metadata": {},
   "outputs": [
    {
     "name": "stdout",
     "output_type": "stream",
     "text": [
      "720\n"
     ]
    }
   ],
   "source": [
    "def myreducefunc1(multiply,list1):\n",
    "    return a\n",
    "def multiply(a,b):\n",
    "    return a*b\n",
    "list1=[1,2,3,4,5,6]\n",
    "a=list1[0]\n",
    "for i in range(1,len(list1)):\n",
    "    b=list1[i]\n",
    "    a=multiply(a,b)\n",
    "print(myreducefunc1(multiply,list1))"
   ]
  },
  {
   "cell_type": "code",
   "execution_count": null,
   "id": "64d02346",
   "metadata": {},
   "outputs": [],
   "source": [
    "# Using filter function"
   ]
  },
  {
   "cell_type": "code",
   "execution_count": 21,
   "id": "3a12abd6",
   "metadata": {},
   "outputs": [
    {
     "name": "stdout",
     "output_type": "stream",
     "text": [
      "[2, 3, 1, 2]\n"
     ]
    }
   ],
   "source": [
    "def filterdata(x):  \n",
    "    if x<5:  \n",
    "        return x  \n",
    "# Calling function  \n",
    "result = filter(filterdata,(7,8,9,2,3,1,2,6))  \n",
    "# Displaying result  \n",
    "print(list(result))  "
   ]
  },
  {
   "cell_type": "code",
   "execution_count": 22,
   "id": "5729ff07",
   "metadata": {},
   "outputs": [
    {
     "name": "stdout",
     "output_type": "stream",
     "text": [
      "[8, 2, 2, 6]\n"
     ]
    }
   ],
   "source": [
    "def filterdata(x):  \n",
    "    if x%2==0:  \n",
    "        return x  \n",
    "# Calling function  \n",
    "result = filter(filterdata,(7,8,9,2,3,1,2,6))  \n",
    "# Displaying result  \n",
    "print(list(result))"
   ]
  },
  {
   "cell_type": "code",
   "execution_count": 32,
   "id": "3ff9f6d3",
   "metadata": {},
   "outputs": [
    {
     "name": "stdout",
     "output_type": "stream",
     "text": [
      "[2, 4, 6, 8, 10]\n"
     ]
    }
   ],
   "source": [
    "def myfilter(is_even,list_2):\n",
    "    return is_even()\n",
    "list_2=[2,3,4,5,6,7,8,9,10]\n",
    "list_3=[]\n",
    "def is_even():\n",
    "    for i in list_2:\n",
    "        if i%2==0:\n",
    "            list_3.append(i)\n",
    "    print(list_3)\n",
    "myfilter(is_even,list_3)"
   ]
  },
  {
   "cell_type": "code",
   "execution_count": 46,
   "id": "08c9b22a",
   "metadata": {},
   "outputs": [
    {
     "name": "stdout",
     "output_type": "stream",
     "text": [
      "[1, 3, 5, 9, 7, 9]\n"
     ]
    }
   ],
   "source": [
    "def myfilter1(is_odd,l):\n",
    "    return is_odd()\n",
    "l = [1,2,4,3,5,6,9,8,7,9,10]\n",
    "l2 = []\n",
    "def is_odd():\n",
    "    for i in l:\n",
    "        if i%2 !=0:\n",
    "            l2.append(i)\n",
    "    print(l2)\n",
    "myfilter1(is_odd,l2)\n",
    "        "
   ]
  },
  {
   "cell_type": "code",
   "execution_count": 48,
   "id": "1eb6b11a",
   "metadata": {},
   "outputs": [],
   "source": [
    "#[i for i in range(len(\"xyz\")) for j in range(1,5) ]"
   ]
  },
  {
   "cell_type": "code",
   "execution_count": 13,
   "id": "5d9e4fc0",
   "metadata": {},
   "outputs": [],
   "source": [
    "#Implement List comprehensions to produce the following lists. Write List comprehensions to produce the following Lists"
   ]
  },
  {
   "cell_type": "code",
   "execution_count": 12,
   "id": "5760dd7a",
   "metadata": {},
   "outputs": [
    {
     "data": {
      "text/plain": [
       "['x', 'xx', 'xxx', 'xxxx', 'y', 'yy', 'yyy', 'yyyy', 'z', 'zz', 'zzz', 'zzzz']"
      ]
     },
     "execution_count": 12,
     "metadata": {},
     "output_type": "execute_result"
    }
   ],
   "source": [
    "l = 'xyz'\n",
    "[i*j for j in l for i in range(1,5)]"
   ]
  },
  {
   "cell_type": "code",
   "execution_count": 10,
   "id": "2cd8961c",
   "metadata": {},
   "outputs": [
    {
     "data": {
      "text/plain": [
       "['x', 'xx', 'xxx', 'y', 'yy', 'yyy', 'z', 'zz', 'zzz']"
      ]
     },
     "execution_count": 10,
     "metadata": {},
     "output_type": "execute_result"
    }
   ],
   "source": [
    "#[i*j for j in 'xyz' for i in range(1,4)]"
   ]
  },
  {
   "cell_type": "code",
   "execution_count": 41,
   "id": "85537111",
   "metadata": {},
   "outputs": [
    {
     "data": {
      "text/plain": [
       "['x', 'y', 'z', 'xx', 'yy', 'zz', 'xxx', 'yyy', 'zzz', 'xxxx', 'yyyy', 'zzzz']"
      ]
     },
     "execution_count": 41,
     "metadata": {},
     "output_type": "execute_result"
    }
   ],
   "source": [
    "l2 = 'xyz'\n",
    "[i*j for j in range(1,5) for i in l2]"
   ]
  },
  {
   "cell_type": "code",
   "execution_count": 6,
   "id": "692c36fc",
   "metadata": {},
   "outputs": [
    {
     "data": {
      "text/plain": [
       "[[2], [3], [4], [3], [4], [5], [4], [5], [6]]"
      ]
     },
     "execution_count": 6,
     "metadata": {},
     "output_type": "execute_result"
    }
   ],
   "source": [
    "k1 =[[k+l] for k in [2,3,4] for l in range(0,3)]\n",
    "k1"
   ]
  },
  {
   "cell_type": "code",
   "execution_count": 5,
   "id": "d6315286",
   "metadata": {},
   "outputs": [
    {
     "data": {
      "text/plain": [
       "[[2, 3, 4, 5], [3, 4, 5, 6], [4, 5, 6, 7], [5, 6, 7, 8]]"
      ]
     },
     "execution_count": 5,
     "metadata": {},
     "output_type": "execute_result"
    }
   ],
   "source": [
    "k2 = [[i+j for j in [2,3,4,5]] for i  in range(0,4)]\n",
    "k2"
   ]
  },
  {
   "cell_type": "code",
   "execution_count": 103,
   "id": "5f0ad1d1",
   "metadata": {},
   "outputs": [
    {
     "data": {
      "text/plain": [
       "[[[2],\n",
       "  [3],\n",
       "  [4],\n",
       "  [3],\n",
       "  [4],\n",
       "  [5],\n",
       "  [4],\n",
       "  [5],\n",
       "  [6],\n",
       "  [2, 3, 4, 5],\n",
       "  [3, 4, 5, 6],\n",
       "  [4, 5, 6, 7],\n",
       "  [5, 6, 7, 8]]]"
      ]
     },
     "execution_count": 103,
     "metadata": {},
     "output_type": "execute_result"
    }
   ],
   "source": [
    "[k1+k2]"
   ]
  },
  {
   "cell_type": "code",
   "execution_count": 7,
   "id": "707e439d",
   "metadata": {},
   "outputs": [
    {
     "data": {
      "text/plain": [
       "[(1, 1), (2, 1), (3, 1), (1, 2), (2, 2), (3, 2), (1, 3), (2, 3), (3, 3)]"
      ]
     },
     "execution_count": 7,
     "metadata": {},
     "output_type": "execute_result"
    }
   ],
   "source": [
    "list = [1,2,3]\n",
    "[(i,j) for j in list for i in list ]"
   ]
  },
  {
   "cell_type": "code",
   "execution_count": 8,
   "id": "b01d5aea",
   "metadata": {},
   "outputs": [
    {
     "data": {
      "text/plain": [
       "[(1, 1), (2, 1), (3, 1), (1, 2), (2, 2), (3, 2), (1, 3), (2, 3), (3, 3)]"
      ]
     },
     "execution_count": 8,
     "metadata": {},
     "output_type": "execute_result"
    }
   ],
   "source": [
    "[(i,j) for j in [1,2,3] for i in [1,2,3] ]"
   ]
  }
 ],
 "metadata": {
  "kernelspec": {
   "display_name": "Python 3",
   "language": "python",
   "name": "python3"
  },
  "language_info": {
   "codemirror_mode": {
    "name": "ipython",
    "version": 3
   },
   "file_extension": ".py",
   "mimetype": "text/x-python",
   "name": "python",
   "nbconvert_exporter": "python",
   "pygments_lexer": "ipython3",
   "version": "3.8.8"
  }
 },
 "nbformat": 4,
 "nbformat_minor": 5
}
