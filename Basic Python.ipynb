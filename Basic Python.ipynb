{
 "cells": [
  {
   "cell_type": "code",
   "execution_count": 1,
   "id": "5445425b",
   "metadata": {},
   "outputs": [
    {
     "name": "stdout",
     "output_type": "stream",
     "text": [
      "Hello World\n"
     ]
    }
   ],
   "source": [
    "print(\"Hello World\")"
   ]
  },
  {
   "cell_type": "markdown",
   "id": "36359751",
   "metadata": {},
   "source": [
    "What is python ?\n",
    "\n",
    "Python is a popular programming language. It was created by Guido van Rossum, and released in 1991."
   ]
  },
  {
   "cell_type": "markdown",
   "id": "456803a9",
   "metadata": {},
   "source": [
    "What can Python do?\n",
    "\n",
    "    Python can be used on a server to create web applications.\n",
    "    Python can be used alongside software to create workflows.\n",
    "    Python can connect to database systems. It can also read and modify files.\n",
    "    Python can be used to handle big data and perform complex mathematics.\n",
    "    Python can be used for rapid prototyping, or for production-ready software development.\n"
   ]
  },
  {
   "cell_type": "markdown",
   "id": "dc0530f0",
   "metadata": {},
   "source": [
    "#Built-in Data Types\n",
    "\n",
    "In programming, data type is an important concept.\n",
    "\n",
    "Variables can store data of different types, and different types can do different things.\n",
    "\n",
    "Python has the following data types built-in by default, in these categories:\n",
    "\n",
    "Text Type: \tstr\n",
    "Numeric Types: \tint, float, complex\n",
    "Sequence Types: \tlist, tuple, range\n",
    "Mapping Type: \tdict\n",
    "Set Types: \tset, frozenset\n",
    "Boolean Type: \tbool\n",
    "Binary Types: \tbytes, bytearray, memoryview"
   ]
  },
  {
   "cell_type": "markdown",
   "id": "f8322dbc",
   "metadata": {},
   "source": [
    "* You can get data type by using type()"
   ]
  },
  {
   "cell_type": "code",
   "execution_count": 3,
   "id": "cf2d94e0",
   "metadata": {},
   "outputs": [
    {
     "data": {
      "text/plain": [
       "int"
      ]
     },
     "execution_count": 3,
     "metadata": {},
     "output_type": "execute_result"
    }
   ],
   "source": [
    "x = 5\n",
    "type(x)"
   ]
  },
  {
   "cell_type": "code",
   "execution_count": 4,
   "id": "5554c1d5",
   "metadata": {},
   "outputs": [],
   "source": [
    "x = b\"Hello\""
   ]
  },
  {
   "cell_type": "code",
   "execution_count": 6,
   "id": "2b2a5096",
   "metadata": {},
   "outputs": [
    {
     "data": {
      "text/plain": [
       "bytes"
      ]
     },
     "execution_count": 6,
     "metadata": {},
     "output_type": "execute_result"
    }
   ],
   "source": [
    "type(x)"
   ]
  },
  {
   "cell_type": "code",
   "execution_count": 7,
   "id": "d277264f",
   "metadata": {},
   "outputs": [],
   "source": [
    "x = bytearray(5)"
   ]
  },
  {
   "cell_type": "code",
   "execution_count": 13,
   "id": "a92ff833",
   "metadata": {},
   "outputs": [
    {
     "data": {
      "text/plain": [
       "bytearray(b'\\x00\\x00\\x00\\x00\\x00')"
      ]
     },
     "execution_count": 13,
     "metadata": {},
     "output_type": "execute_result"
    }
   ],
   "source": [
    "type(x)\n",
    "\n",
    "x"
   ]
  },
  {
   "cell_type": "code",
   "execution_count": 14,
   "id": "9cf13e59",
   "metadata": {},
   "outputs": [],
   "source": [
    "x = memoryview(bytes(5))\n"
   ]
  },
  {
   "cell_type": "code",
   "execution_count": 15,
   "id": "7ac08a5d",
   "metadata": {},
   "outputs": [
    {
     "data": {
      "text/plain": [
       "<memory at 0x00000253FACCE040>"
      ]
     },
     "execution_count": 15,
     "metadata": {},
     "output_type": "execute_result"
    }
   ],
   "source": [
    "x"
   ]
  },
  {
   "cell_type": "code",
   "execution_count": 16,
   "id": "5932a5f2",
   "metadata": {},
   "outputs": [
    {
     "data": {
      "text/plain": [
       "memoryview"
      ]
     },
     "execution_count": 16,
     "metadata": {},
     "output_type": "execute_result"
    }
   ],
   "source": [
    "type(x)"
   ]
  },
  {
   "cell_type": "code",
   "execution_count": 17,
   "id": "f82b966c",
   "metadata": {},
   "outputs": [],
   "source": [
    "#Escape Character \\"
   ]
  },
  {
   "cell_type": "markdown",
   "id": "6c881b3a",
   "metadata": {},
   "source": [
    "txt = \"We are the so-called \"Vikings\" from the north.\""
   ]
  },
  {
   "cell_type": "markdown",
   "id": "1800294c",
   "metadata": {},
   "source": [
    "Boolean Values\n",
    "\n",
    "In programming you often need to know if an expression is True or False.\n",
    "\n",
    "You can evaluate any expression in Python, and get one of two answers, True or False.\n",
    "\n",
    "When you compare two values, the expression is evaluated and Python returns the Boolean answer:"
   ]
  },
  {
   "cell_type": "code",
   "execution_count": 20,
   "id": "5b8aea1d",
   "metadata": {},
   "outputs": [
    {
     "name": "stdout",
     "output_type": "stream",
     "text": [
      "True\n",
      "False\n",
      "False\n",
      "True\n"
     ]
    }
   ],
   "source": [
    "print(10 > 9)\n",
    "print(10 == 9)\n",
    "print(10 < 9)\n",
    "print(10!=8)"
   ]
  },
  {
   "cell_type": "code",
   "execution_count": 2,
   "id": "e0695501",
   "metadata": {},
   "outputs": [
    {
     "data": {
      "text/plain": [
       "2.5"
      ]
     },
     "execution_count": 2,
     "metadata": {},
     "output_type": "execute_result"
    }
   ],
   "source": [
    "5/2\n"
   ]
  },
  {
   "cell_type": "code",
   "execution_count": 5,
   "id": "809cc789",
   "metadata": {},
   "outputs": [
    {
     "name": "stdout",
     "output_type": "stream",
     "text": [
      "Python Tutorial,\n",
      "Javascript Tutorial,\n",
      "MySQL Tutorial\n"
     ]
    }
   ],
   "source": [
    "x = '''Python Tutorial,\n",
    "Javascript Tutorial,\n",
    "MySQL Tutorial'''\n",
    "print(x)"
   ]
  },
  {
   "cell_type": "code",
   "execution_count": 7,
   "id": "7e9b8522",
   "metadata": {},
   "outputs": [
    {
     "name": "stdout",
     "output_type": "stream",
     "text": [
      "[70, 111, 106, 94, 101, 100, 22, 95, 105, 22, 91, 87, 125, 135]\n",
      "b'Foj^ed\\x16_i\\x16[W}\\x87'\n"
     ]
    }
   ],
   "source": [
    "y = [70, 111, 106, 94, 101, 100, 22, 95, 105, 22, 91, 87, 125, 135]\n",
    "print(y)\n",
    "[70, 111, 106, 94, 101, 100, 22, 95, 105, 22, 91, 87, 125, 135]\n",
    "#create a bytes object from a list of integers in the range 0 through 255.\n",
    "z = bytes(y)\n",
    "print(z)\n"
   ]
  },
  {
   "cell_type": "code",
   "execution_count": null,
   "id": "ed276676",
   "metadata": {},
   "outputs": [],
   "source": []
  }
 ],
 "metadata": {
  "kernelspec": {
   "display_name": "Python 3 (ipykernel)",
   "language": "python",
   "name": "python3"
  },
  "language_info": {
   "codemirror_mode": {
    "name": "ipython",
    "version": 3
   },
   "file_extension": ".py",
   "mimetype": "text/x-python",
   "name": "python",
   "nbconvert_exporter": "python",
   "pygments_lexer": "ipython3",
   "version": "3.9.7"
  }
 },
 "nbformat": 4,
 "nbformat_minor": 5
}
