{
 "cells": [
  {
   "cell_type": "markdown",
   "id": "838cbdb4",
   "metadata": {},
   "source": [
    "Installed jupyter notebook in my laptop\n",
    "- So i will start try to learn code in python "
   ]
  },
  {
   "cell_type": "code",
   "execution_count": 2,
   "id": "602e12c8",
   "metadata": {},
   "outputs": [
    {
     "name": "stdout",
     "output_type": "stream",
     "text": [
      "Hello dude\n"
     ]
    }
   ],
   "source": [
    "print(\"Hello dude\")"
   ]
  },
  {
   "cell_type": "code",
   "execution_count": null,
   "id": "ad1378bd",
   "metadata": {},
   "outputs": [],
   "source": [
    "#Python Indentation -- Indentation refer to the spaces at the begning of code line"
   ]
  },
  {
   "cell_type": "code",
   "execution_count": 10,
   "id": "855dd1c4",
   "metadata": {},
   "outputs": [
    {
     "name": "stdout",
     "output_type": "stream",
     "text": [
      "Enter the age 23\n",
      "You are eligible to have vaccination\n"
     ]
    }
   ],
   "source": [
    "age = int(input(\"Enter the age \"))\n",
    "if age > 18:\n",
    "    print(\"You are eligible to have vaccination\")\n",
    "else:\n",
    "    print(\"you are under age\")"
   ]
  },
  {
   "cell_type": "code",
   "execution_count": 11,
   "id": "6385a869",
   "metadata": {},
   "outputs": [
    {
     "name": "stdout",
     "output_type": "stream",
     "text": [
      "five is Greater than 2\n"
     ]
    }
   ],
   "source": [
    "if 5>2:\n",
    "    print(\"five is Greater than 2\")\n",
    "else:\n",
    "        print(\"five is less than 2\")\n",
    "    "
   ]
  },
  {
   "cell_type": "code",
   "execution_count": 12,
   "id": "9ff9165a",
   "metadata": {},
   "outputs": [],
   "source": [
    "#So it is up to programmmer the no of spaces but is shouwld be atleast one space  "
   ]
  },
  {
   "cell_type": "code",
   "execution_count": 13,
   "id": "27c4fdb8",
   "metadata": {},
   "outputs": [],
   "source": [
    "# Vaiable in Python"
   ]
  },
  {
   "cell_type": "code",
   "execution_count": 14,
   "id": "d8a0f436",
   "metadata": {},
   "outputs": [],
   "source": [
    "#You can assign varible in python you donot have mention its type a the assignmnet python automatically understand is type"
   ]
  },
  {
   "cell_type": "code",
   "execution_count": 15,
   "id": "8c79aee7",
   "metadata": {},
   "outputs": [],
   "source": [
    "H = \"Hello Guys\"\n",
    "J = 234\n",
    "k = .45\n",
    "I = 2 + 3j"
   ]
  },
  {
   "cell_type": "code",
   "execution_count": 21,
   "id": "dd21cc92",
   "metadata": {},
   "outputs": [
    {
     "data": {
      "text/plain": [
       "(str, int, float, complex)"
      ]
     },
     "execution_count": 21,
     "metadata": {},
     "output_type": "execute_result"
    }
   ],
   "source": [
    "type(H),type(J),type(k),type(I)"
   ]
  },
  {
   "cell_type": "code",
   "execution_count": 23,
   "id": "fa678a97",
   "metadata": {},
   "outputs": [],
   "source": [
    "#Built-in Data Types\n",
    "#In programming, data type is an important concept. Variables can store data of different types, and different types can do different things"
   ]
  },
  {
   "cell_type": "code",
   "execution_count": 24,
   "id": "22fe9744",
   "metadata": {},
   "outputs": [],
   "source": [
    "#Convert from one type to another:"
   ]
  },
  {
   "cell_type": "code",
   "execution_count": 26,
   "id": "0eb4f7c6",
   "metadata": {},
   "outputs": [],
   "source": [
    "x = 23\n",
    "y = 4.5\n",
    "z = 2+4j"
   ]
  },
  {
   "cell_type": "code",
   "execution_count": 36,
   "id": "57c7ab1b",
   "metadata": {},
   "outputs": [],
   "source": [
    " y = float(x)"
   ]
  },
  {
   "cell_type": "code",
   "execution_count": 29,
   "id": "b09acd12",
   "metadata": {},
   "outputs": [
    {
     "name": "stdout",
     "output_type": "stream",
     "text": [
      "23.0\n"
     ]
    }
   ],
   "source": [
    "print(y)"
   ]
  },
  {
   "cell_type": "code",
   "execution_count": 39,
   "id": "85a69882",
   "metadata": {},
   "outputs": [
    {
     "name": "stdout",
     "output_type": "stream",
     "text": [
      "23\n"
     ]
    }
   ],
   "source": [
    "b = int(y)\n",
    "print(b)"
   ]
  },
  {
   "cell_type": "code",
   "execution_count": 40,
   "id": "ad42e43a",
   "metadata": {},
   "outputs": [],
   "source": [
    "#Strings in python are denoted by either single quotation marks, or double quotation marks"
   ]
  },
  {
   "cell_type": "code",
   "execution_count": 42,
   "id": "c394406b",
   "metadata": {},
   "outputs": [
    {
     "name": "stdout",
     "output_type": "stream",
     "text": [
      "this is the first code\n",
      "This can updated as per requirment\n"
     ]
    }
   ],
   "source": [
    "HI = \"this is the first code\"\n",
    "l = 'This can updated as per requirment'\n",
    "print(HI)\n",
    "print(l)"
   ]
  },
  {
   "cell_type": "code",
   "execution_count": 43,
   "id": "16003510",
   "metadata": {},
   "outputs": [
    {
     "name": "stdout",
     "output_type": "stream",
     "text": [
      "fwor wwwwwwwwwwwwwwwwwwwwwwwwwwwwwwwwwwwwwwwww\n",
      "wwwwwwwskjfsjsdkfjswwwwkjdlk\n",
      "kjlsjkdflskooeipeoieoiwwwww\n",
      "mcnkkcsjkkcjs\n"
     ]
    }
   ],
   "source": [
    "# Multiline String\n",
    "a = \"\"\"fwor wwwwwwwwwwwwwwwwwwwwwwwwwwwwwwwwwwwwwwwww\n",
    "wwwwwwwskjfsjsdkfjswwwwkjdlk\n",
    "kjlsjkdflskooeipeoieoiwwwww\n",
    "mcnkkcsjkkcjs\"\"\"\n",
    "print(a)"
   ]
  },
  {
   "cell_type": "code",
   "execution_count": 46,
   "id": "0209a0ee",
   "metadata": {},
   "outputs": [
    {
     "name": "stdout",
     "output_type": "stream",
     "text": [
      "hi friends can you suggest me one idea\n"
     ]
    }
   ],
   "source": [
    "# Strwing Sclicing in python\n",
    "S = (\"hi friends can you suggest me one idea\")\n",
    "print(S)"
   ]
  },
  {
   "cell_type": "code",
   "execution_count": 51,
   "id": "e957b439",
   "metadata": {},
   "outputs": [
    {
     "name": "stdout",
     "output_type": "stream",
     "text": [
      " fri\n",
      "hi friend\n",
      "hi friends can you suggest me one idea\n",
      "aemguan \n",
      "hi friends can \n"
     ]
    }
   ],
   "source": [
    "print(S[2:6])\n",
    "print(S[:9])\n",
    "print(S[::])\n",
    "print(S[::-5])\n",
    "print(S[0:15])"
   ]
  },
  {
   "cell_type": "code",
   "execution_count": 57,
   "id": "5d5205e9",
   "metadata": {},
   "outputs": [
    {
     "name": "stdout",
     "output_type": "stream",
     "text": [
      "one i\n"
     ]
    }
   ],
   "source": [
    "print(S[-8:-3])"
   ]
  },
  {
   "cell_type": "code",
   "execution_count": 62,
   "id": "7e959688",
   "metadata": {},
   "outputs": [
    {
     "name": "stdout",
     "output_type": "stream",
     "text": [
      "HI FRIENDS CAN YOU SUGGEST ME ONE IDEA\n"
     ]
    }
   ],
   "source": [
    "print(S.upper())"
   ]
  },
  {
   "cell_type": "code",
   "execution_count": 63,
   "id": "efbae2aa",
   "metadata": {},
   "outputs": [
    {
     "name": "stdout",
     "output_type": "stream",
     "text": [
      "you r so good\n"
     ]
    }
   ],
   "source": [
    "k = 'YOU R SO GOOD'\n",
    "print(k.lower())"
   ]
  },
  {
   "cell_type": "code",
   "execution_count": 14,
   "id": "d4100f27",
   "metadata": {},
   "outputs": [
    {
     "name": "stdout",
     "output_type": "stream",
     "text": [
      "      can u do one thing for mewwwwW    \n",
      "can u do one thing for mewwwwW\n"
     ]
    }
   ],
   "source": [
    "s1 = \"      can u do one thing for mewwwwW    \"\n",
    "print(s1)\n",
    "print(s1.strip())"
   ]
  },
  {
   "cell_type": "code",
   "execution_count": 5,
   "id": "c8683d58",
   "metadata": {},
   "outputs": [
    {
     "name": "stdout",
     "output_type": "stream",
     "text": [
      "Name:  Harish Sharma\n"
     ]
    }
   ],
   "source": [
    "first_name = \"Harish\"\n",
    "last_name  = \"Sharma\"\n",
    "print(\"Name: \", first_name, last_name)"
   ]
  },
  {
   "cell_type": "code",
   "execution_count": 11,
   "id": "61dcd7ce",
   "metadata": {},
   "outputs": [
    {
     "name": "stdout",
     "output_type": "stream",
     "text": [
      "enter first nameharish\n",
      "enter last namesharma\n",
      "sharma harish\n"
     ]
    }
   ],
   "source": [
    "Fname = input(\"enter first name\")\n",
    "Lname = input(\"enter last name\")\n",
    "print(Lname + \" \" + Fname)"
   ]
  },
  {
   "cell_type": "code",
   "execution_count": 19,
   "id": "33d1eb35",
   "metadata": {},
   "outputs": [
    {
     "name": "stdout",
     "output_type": "stream",
     "text": [
      "volume of sphare=  75.39599999999999\n"
     ]
    }
   ],
   "source": [
    "d =12\n",
    "r =d/2\n",
    "#r = 6\n",
    "pie = 3.1415\n",
    "v = (4/3)*pie*(r*3)\n",
    "print(\"volume of sphare= \", v)\n"
   ]
  },
  {
   "cell_type": "code",
   "execution_count": 36,
   "id": "3f7edb47",
   "metadata": {},
   "outputs": [
    {
     "name": "stdout",
     "output_type": "stream",
     "text": [
      "[2002, 2009, 2016, 2023, 2037, 2044, 2051, 2058, 2072, 2079, 2086, 2093, 2107, 2114, 2121, 2128, 2142, 2149, 2156, 2163, 2177, 2184, 2191, 2198, 2212, 2219, 2226, 2233, 2247, 2254, 2261, 2268, 2282, 2289, 2296, 2303, 2317, 2324, 2331, 2338, 2352, 2359, 2366, 2373, 2387, 2394, 2401, 2408, 2422, 2429, 2436, 2443, 2457, 2464, 2471, 2478, 2492, 2499, 2506, 2513, 2527, 2534, 2541, 2548, 2562, 2569, 2576, 2583, 2597, 2604, 2611, 2618, 2632, 2639, 2646, 2653, 2667, 2674, 2681, 2688, 2702, 2709, 2716, 2723, 2737, 2744, 2751, 2758, 2772, 2779, 2786, 2793, 2807, 2814, 2821, 2828, 2842, 2849, 2856, 2863, 2877, 2884, 2891, 2898, 2912, 2919, 2926, 2933, 2947, 2954, 2961, 2968, 2982, 2989, 2996, 3003, 3017, 3024, 3031, 3038, 3052, 3059, 3066, 3073, 3087, 3094, 3101, 3108, 3122, 3129, 3136, 3143, 3157, 3164, 3171, 3178, 3192, 3199]\n"
     ]
    }
   ],
   "source": [
    "K = [i for i in range(2000, 3201) if i%7==0 if i%5!=0]\n",
    "print(K)"
   ]
  },
  {
   "cell_type": "code",
   "execution_count": 37,
   "id": "cc7a7413",
   "metadata": {},
   "outputs": [
    {
     "name": "stdout",
     "output_type": "stream",
     "text": [
      "2002\n",
      "2009\n",
      "2016\n",
      "2023\n",
      "2037\n",
      "2044\n",
      "2051\n",
      "2058\n",
      "2072\n",
      "2079\n",
      "2086\n",
      "2093\n",
      "2107\n",
      "2114\n",
      "2121\n",
      "2128\n",
      "2142\n",
      "2149\n",
      "2156\n",
      "2163\n",
      "2177\n",
      "2184\n",
      "2191\n",
      "2198\n",
      "2212\n",
      "2219\n",
      "2226\n",
      "2233\n",
      "2247\n",
      "2254\n",
      "2261\n",
      "2268\n",
      "2282\n",
      "2289\n",
      "2296\n",
      "2303\n",
      "2317\n",
      "2324\n",
      "2331\n",
      "2338\n",
      "2352\n",
      "2359\n",
      "2366\n",
      "2373\n",
      "2387\n",
      "2394\n",
      "2401\n",
      "2408\n",
      "2422\n",
      "2429\n",
      "2436\n",
      "2443\n",
      "2457\n",
      "2464\n",
      "2471\n",
      "2478\n",
      "2492\n",
      "2499\n",
      "2506\n",
      "2513\n",
      "2527\n",
      "2534\n",
      "2541\n",
      "2548\n",
      "2562\n",
      "2569\n",
      "2576\n",
      "2583\n",
      "2597\n",
      "2604\n",
      "2611\n",
      "2618\n",
      "2632\n",
      "2639\n",
      "2646\n",
      "2653\n",
      "2667\n",
      "2674\n",
      "2681\n",
      "2688\n",
      "2702\n",
      "2709\n",
      "2716\n",
      "2723\n",
      "2737\n",
      "2744\n",
      "2751\n",
      "2758\n",
      "2772\n",
      "2779\n",
      "2786\n",
      "2793\n",
      "2807\n",
      "2814\n",
      "2821\n",
      "2828\n",
      "2842\n",
      "2849\n",
      "2856\n",
      "2863\n",
      "2877\n",
      "2884\n",
      "2891\n",
      "2898\n",
      "2912\n",
      "2919\n",
      "2926\n",
      "2933\n",
      "2947\n",
      "2954\n",
      "2961\n",
      "2968\n",
      "2982\n",
      "2989\n",
      "2996\n",
      "3003\n",
      "3017\n",
      "3024\n",
      "3031\n",
      "3038\n",
      "3052\n",
      "3059\n",
      "3066\n",
      "3073\n",
      "3087\n",
      "3094\n",
      "3101\n",
      "3108\n",
      "3122\n",
      "3129\n",
      "3136\n",
      "3143\n",
      "3157\n",
      "3164\n",
      "3171\n",
      "3178\n",
      "3192\n",
      "3199\n"
     ]
    }
   ],
   "source": [
    "for i in range(2000, 3200):\n",
    "    if i%7== 0 and i%5!= 0:\n",
    "        print(i)"
   ]
  },
  {
   "cell_type": "code",
   "execution_count": null,
   "id": "273ea08c",
   "metadata": {},
   "outputs": [],
   "source": []
  }
 ],
 "metadata": {
  "kernelspec": {
   "display_name": "Python 3",
   "language": "python",
   "name": "python3"
  },
  "language_info": {
   "codemirror_mode": {
    "name": "ipython",
    "version": 3
   },
   "file_extension": ".py",
   "mimetype": "text/x-python",
   "name": "python",
   "nbconvert_exporter": "python",
   "pygments_lexer": "ipython3",
   "version": "3.9.4"
  }
 },
 "nbformat": 4,
 "nbformat_minor": 5
}
