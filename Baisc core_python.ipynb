{
 "cells": [
  {
   "cell_type": "code",
   "execution_count": 2,
   "id": "fae4d09f",
   "metadata": {},
   "outputs": [],
   "source": [
    "s = \"harish\""
   ]
  },
  {
   "cell_type": "code",
   "execution_count": 4,
   "id": "a7685e18",
   "metadata": {},
   "outputs": [
    {
     "data": {
      "text/plain": [
       "'harish sir'"
      ]
     },
     "execution_count": 4,
     "metadata": {},
     "output_type": "execute_result"
    }
   ],
   "source": [
    "s + str(' sir')"
   ]
  },
  {
   "cell_type": "code",
   "execution_count": 5,
   "id": "0c40820e",
   "metadata": {},
   "outputs": [
    {
     "data": {
      "text/plain": [
       "'harish1'"
      ]
     },
     "execution_count": 5,
     "metadata": {},
     "output_type": "execute_result"
    }
   ],
   "source": [
    "s + str(1)"
   ]
  },
  {
   "cell_type": "code",
   "execution_count": 6,
   "id": "475186c5",
   "metadata": {},
   "outputs": [
    {
     "data": {
      "text/plain": [
       "'harishharishharishharishharishharishharishharishharishharish'"
      ]
     },
     "execution_count": 6,
     "metadata": {},
     "output_type": "execute_result"
    }
   ],
   "source": [
    " s*10"
   ]
  },
  {
   "cell_type": "code",
   "execution_count": 7,
   "id": "5a0f447a",
   "metadata": {},
   "outputs": [],
   "source": [
    "l  = [1,2,3,4,5,6,\"hari\",\"ram\",10]"
   ]
  },
  {
   "cell_type": "code",
   "execution_count": 8,
   "id": "0af1e9af",
   "metadata": {},
   "outputs": [
    {
     "data": {
      "text/plain": [
       "[1, 2, 3, 4, 5, 6, 'hari', 'ram', 10, 1, 2, 3, 4, 5, 6, 'hari', 'ram', 10]"
      ]
     },
     "execution_count": 8,
     "metadata": {},
     "output_type": "execute_result"
    }
   ],
   "source": [
    "l*2"
   ]
  },
  {
   "cell_type": "code",
   "execution_count": 9,
   "id": "f70faaa0",
   "metadata": {},
   "outputs": [
    {
     "name": "stdout",
     "output_type": "stream",
     "text": [
      "[1, 2, 3, 4, 5, 6, 'hari', 'ram', 10, 1, 2, 3, 4, 5, 6, 'hari', 'ram', 10, 1, 2, 3, 4, 5, 6, 'hari', 'ram', 10]\n"
     ]
    }
   ],
   "source": [
    "print(l*3)"
   ]
  },
  {
   "cell_type": "code",
   "execution_count": 11,
   "id": "75a0d705",
   "metadata": {},
   "outputs": [],
   "source": [
    "s = \"harish sharma\""
   ]
  },
  {
   "cell_type": "code",
   "execution_count": 12,
   "id": "da97917d",
   "metadata": {},
   "outputs": [
    {
     "data": {
      "text/plain": [
       "'Harish Sharma'"
      ]
     },
     "execution_count": 12,
     "metadata": {},
     "output_type": "execute_result"
    }
   ],
   "source": [
    "s.title()"
   ]
  },
  {
   "cell_type": "code",
   "execution_count": 13,
   "id": "73f58b53",
   "metadata": {},
   "outputs": [
    {
     "data": {
      "text/plain": [
       "'HARISH SHARMA'"
      ]
     },
     "execution_count": 13,
     "metadata": {},
     "output_type": "execute_result"
    }
   ],
   "source": [
    "s.upper()"
   ]
  },
  {
   "cell_type": "code",
   "execution_count": 14,
   "id": "c662d3ab",
   "metadata": {},
   "outputs": [
    {
     "data": {
      "text/plain": [
       "'harish sharma'"
      ]
     },
     "execution_count": 14,
     "metadata": {},
     "output_type": "execute_result"
    }
   ],
   "source": [
    "s.lower()"
   ]
  },
  {
   "cell_type": "code",
   "execution_count": 18,
   "id": "98af7f89",
   "metadata": {},
   "outputs": [
    {
     "data": {
      "text/plain": [
       "'shastra'"
      ]
     },
     "execution_count": 18,
     "metadata": {},
     "output_type": "execute_result"
    }
   ],
   "source": [
    "s1 = 'Shastra'\n",
    "s1.casefold()"
   ]
  },
  {
   "cell_type": "code",
   "execution_count": 19,
   "id": "43f180f2",
   "metadata": {},
   "outputs": [
    {
     "data": {
      "text/plain": [
       "'harish sharma'"
      ]
     },
     "execution_count": 19,
     "metadata": {},
     "output_type": "execute_result"
    }
   ],
   "source": [
    "s.casefold()"
   ]
  },
  {
   "cell_type": "code",
   "execution_count": 20,
   "id": "bc239b7f",
   "metadata": {},
   "outputs": [
    {
     "data": {
      "text/plain": [
       "['harish', 'sharma']"
      ]
     },
     "execution_count": 20,
     "metadata": {},
     "output_type": "execute_result"
    }
   ],
   "source": [
    "s.split()"
   ]
  },
  {
   "cell_type": "code",
   "execution_count": 26,
   "id": "8644a361",
   "metadata": {},
   "outputs": [],
   "source": [
    "a = \"India is a place of diverse culture \""
   ]
  },
  {
   "cell_type": "code",
   "execution_count": 27,
   "id": "9d0bacfa",
   "metadata": {},
   "outputs": [],
   "source": [
    "a1 = a.split()"
   ]
  },
  {
   "cell_type": "code",
   "execution_count": 28,
   "id": "0ade6261",
   "metadata": {},
   "outputs": [
    {
     "data": {
      "text/plain": [
       "['India', 'is', 'a', 'place', 'of', 'diverse', 'culture']"
      ]
     },
     "execution_count": 28,
     "metadata": {},
     "output_type": "execute_result"
    }
   ],
   "source": [
    "a1"
   ]
  },
  {
   "cell_type": "code",
   "execution_count": 29,
   "id": "406062ec",
   "metadata": {},
   "outputs": [
    {
     "data": {
      "text/plain": [
       "['India is a place of diverse culture ']"
      ]
     },
     "execution_count": 29,
     "metadata": {},
     "output_type": "execute_result"
    }
   ],
   "source": [
    "a.splitlines()"
   ]
  },
  {
   "cell_type": "code",
   "execution_count": 30,
   "id": "821bd3ad",
   "metadata": {},
   "outputs": [
    {
     "data": {
      "text/plain": [
       "['India', 'is', 'a', 'place', 'of', 'diverse', 'culture']"
      ]
     },
     "execution_count": 30,
     "metadata": {},
     "output_type": "execute_result"
    }
   ],
   "source": [
    "a1"
   ]
  },
  {
   "cell_type": "code",
   "execution_count": 31,
   "id": "0e36c8bd",
   "metadata": {},
   "outputs": [
    {
     "data": {
      "text/plain": [
       "['culture', 'diverse', 'of', 'place', 'a', 'is', 'India']"
      ]
     },
     "execution_count": 31,
     "metadata": {},
     "output_type": "execute_result"
    }
   ],
   "source": [
    "a1[::-1]"
   ]
  },
  {
   "cell_type": "code",
   "execution_count": 21,
   "id": "8a834e92",
   "metadata": {},
   "outputs": [],
   "source": [
    "b = \"Indiais aplace ofdiverse culture\""
   ]
  },
  {
   "cell_type": "code",
   "execution_count": 22,
   "id": "c2896757",
   "metadata": {},
   "outputs": [
    {
     "data": {
      "text/plain": [
       "['Indiais', 'aplace', 'ofdiverse', 'culture']"
      ]
     },
     "execution_count": 22,
     "metadata": {},
     "output_type": "execute_result"
    }
   ],
   "source": [
    "b.split()"
   ]
  },
  {
   "cell_type": "code",
   "execution_count": 32,
   "id": "96b9bd4d",
   "metadata": {},
   "outputs": [],
   "source": [
    "c = \"India@is@a@place@of@diverse@culture\""
   ]
  },
  {
   "cell_type": "code",
   "execution_count": 33,
   "id": "b26eeb5c",
   "metadata": {},
   "outputs": [
    {
     "data": {
      "text/plain": [
       "['India', 'is', 'a', 'place', 'of', 'diverse', 'culture']"
      ]
     },
     "execution_count": 33,
     "metadata": {},
     "output_type": "execute_result"
    }
   ],
   "source": [
    "c.split('@')"
   ]
  },
  {
   "cell_type": "code",
   "execution_count": 34,
   "id": "d14781b4",
   "metadata": {},
   "outputs": [],
   "source": [
    "h = \"HarishHsharmaInHomeOfHimsagar\""
   ]
  },
  {
   "cell_type": "code",
   "execution_count": 35,
   "id": "5c155ab5",
   "metadata": {},
   "outputs": [
    {
     "data": {
      "text/plain": [
       "['', 'arish', 'sharmaIn', 'omeOf', 'imsagar']"
      ]
     },
     "execution_count": 35,
     "metadata": {},
     "output_type": "execute_result"
    }
   ],
   "source": [
    "h.split(\"H\")"
   ]
  },
  {
   "cell_type": "code",
   "execution_count": 36,
   "id": "049f9436",
   "metadata": {},
   "outputs": [
    {
     "data": {
      "text/plain": [
       "('India is a plac', 'e', ' of diverse culture ')"
      ]
     },
     "execution_count": 36,
     "metadata": {},
     "output_type": "execute_result"
    }
   ],
   "source": [
    "a.partition(\"e\")"
   ]
  },
  {
   "cell_type": "code",
   "execution_count": 37,
   "id": "5934662a",
   "metadata": {},
   "outputs": [],
   "source": [
    "d = \"102010301050104010\""
   ]
  },
  {
   "cell_type": "code",
   "execution_count": 40,
   "id": "4e6779d0",
   "metadata": {},
   "outputs": [
    {
     "data": {
      "text/plain": [
       "('10', '20', '10301050104010')"
      ]
     },
     "execution_count": 40,
     "metadata": {},
     "output_type": "execute_result"
    }
   ],
   "source": [
    "d.partition('20')"
   ]
  },
  {
   "cell_type": "code",
   "execution_count": 41,
   "id": "3ab841b6",
   "metadata": {},
   "outputs": [],
   "source": [
    "k = \"india\""
   ]
  },
  {
   "cell_type": "code",
   "execution_count": 42,
   "id": "12e043b1",
   "metadata": {},
   "outputs": [
    {
     "data": {
      "text/plain": [
       "['', 'nd', 'a']"
      ]
     },
     "execution_count": 42,
     "metadata": {},
     "output_type": "execute_result"
    }
   ],
   "source": [
    "k.split(\"i\")"
   ]
  },
  {
   "cell_type": "code",
   "execution_count": 43,
   "id": "bf452f5c",
   "metadata": {},
   "outputs": [
    {
     "data": {
      "text/plain": [
       "('', 'i', 'ndia')"
      ]
     },
     "execution_count": 43,
     "metadata": {},
     "output_type": "execute_result"
    }
   ],
   "source": [
    "k.partition(\"i\")"
   ]
  },
  {
   "cell_type": "code",
   "execution_count": 44,
   "id": "26e7f831",
   "metadata": {},
   "outputs": [
    {
     "data": {
      "text/plain": [
       "list"
      ]
     },
     "execution_count": 44,
     "metadata": {},
     "output_type": "execute_result"
    }
   ],
   "source": [
    "type(a.split('a'))"
   ]
  },
  {
   "cell_type": "code",
   "execution_count": 45,
   "id": "943556f3",
   "metadata": {},
   "outputs": [
    {
     "data": {
      "text/plain": [
       "tuple"
      ]
     },
     "execution_count": 45,
     "metadata": {},
     "output_type": "execute_result"
    }
   ],
   "source": [
    "type(a.partition('a'))"
   ]
  },
  {
   "cell_type": "code",
   "execution_count": 46,
   "id": "321e66a1",
   "metadata": {},
   "outputs": [],
   "source": [
    "d = 'harishsharmaliveinpune'"
   ]
  },
  {
   "cell_type": "code",
   "execution_count": 51,
   "id": "dd128ca6",
   "metadata": {},
   "outputs": [
    {
     "data": {
      "text/plain": [
       "0"
      ]
     },
     "execution_count": 51,
     "metadata": {},
     "output_type": "execute_result"
    }
   ],
   "source": [
    "d.find(\"h\")\n",
    "#d.find(\"k\")"
   ]
  },
  {
   "cell_type": "code",
   "execution_count": 52,
   "id": "813d6ed1",
   "metadata": {},
   "outputs": [],
   "source": [
    "l = \"harish\""
   ]
  },
  {
   "cell_type": "code",
   "execution_count": 53,
   "id": "4b172bb0",
   "metadata": {},
   "outputs": [
    {
     "data": {
      "text/plain": [
       "'##harish##'"
      ]
     },
     "execution_count": 53,
     "metadata": {},
     "output_type": "execute_result"
    }
   ],
   "source": [
    "l.center(10,\"#\")"
   ]
  },
  {
   "cell_type": "code",
   "execution_count": 54,
   "id": "49c988b2",
   "metadata": {},
   "outputs": [
    {
     "data": {
      "text/plain": [
       "['harishsharma']"
      ]
     },
     "execution_count": 54,
     "metadata": {},
     "output_type": "execute_result"
    }
   ],
   "source": [
    "'harishsharma'.split('\\t')"
   ]
  },
  {
   "cell_type": "code",
   "execution_count": 55,
   "id": "3a6a915e",
   "metadata": {},
   "outputs": [
    {
     "data": {
      "text/plain": [
       "'har     ish     sha     rma'"
      ]
     },
     "execution_count": 55,
     "metadata": {},
     "output_type": "execute_result"
    }
   ],
   "source": [
    "'har\\tish\\tsha\\trma'.expandtabs()"
   ]
  },
  {
   "cell_type": "code",
   "execution_count": 56,
   "id": "9cdf83ad",
   "metadata": {},
   "outputs": [
    {
     "data": {
      "text/plain": [
       "'how     to      learn   python  programing'"
      ]
     },
     "execution_count": 56,
     "metadata": {},
     "output_type": "execute_result"
    }
   ],
   "source": [
    "\"how\\tto\\tlearn\\tpython\\tprograming\".expandtabs()"
   ]
  },
  {
   "cell_type": "code",
   "execution_count": 57,
   "id": "7126c4e4",
   "metadata": {},
   "outputs": [
    {
     "data": {
      "text/plain": [
       "'harish is my firstname '"
      ]
     },
     "execution_count": 57,
     "metadata": {},
     "output_type": "execute_result"
    }
   ],
   "source": [
    "\"{} is my firstname \".format(\"harish\") "
   ]
  },
  {
   "cell_type": "code",
   "execution_count": 58,
   "id": "3ac935c4",
   "metadata": {},
   "outputs": [
    {
     "name": "stdout",
     "output_type": "stream",
     "text": [
      "Please give your name hhhh\n"
     ]
    },
    {
     "data": {
      "text/plain": [
       "'my name is hhhh'"
      ]
     },
     "execution_count": 58,
     "metadata": {},
     "output_type": "execute_result"
    }
   ],
   "source": [
    "y = input(\"Please give your name \")\n",
    "\n",
    "\"my name is {}\".format(y)"
   ]
  },
  {
   "cell_type": "code",
   "execution_count": 59,
   "id": "5b80d5a7",
   "metadata": {},
   "outputs": [
    {
     "name": "stdout",
     "output_type": "stream",
     "text": [
      "lastname: sharma\n"
     ]
    }
   ],
   "source": [
    "x = input(\"lastname: \")"
   ]
  },
  {
   "cell_type": "code",
   "execution_count": 60,
   "id": "0ffdf613",
   "metadata": {},
   "outputs": [
    {
     "data": {
      "text/plain": [
       "'my name is hhhhsharma'"
      ]
     },
     "execution_count": 60,
     "metadata": {},
     "output_type": "execute_result"
    }
   ],
   "source": [
    "\"my name is {}{}\".format(y,x)"
   ]
  },
  {
   "cell_type": "code",
   "execution_count": 61,
   "id": "5c12ebce",
   "metadata": {},
   "outputs": [],
   "source": [
    "p = \"hello\"\n"
   ]
  },
  {
   "cell_type": "code",
   "execution_count": 62,
   "id": "020534bb",
   "metadata": {},
   "outputs": [
    {
     "data": {
      "text/plain": [
       "False"
      ]
     },
     "execution_count": 62,
     "metadata": {},
     "output_type": "execute_result"
    }
   ],
   "source": [
    "p.istitle()"
   ]
  },
  {
   "cell_type": "code",
   "execution_count": 63,
   "id": "000fb2b9",
   "metadata": {},
   "outputs": [
    {
     "data": {
      "text/plain": [
       "True"
      ]
     },
     "execution_count": 63,
     "metadata": {},
     "output_type": "execute_result"
    }
   ],
   "source": [
    "p.isalpha()"
   ]
  },
  {
   "cell_type": "code",
   "execution_count": 64,
   "id": "239cb8af",
   "metadata": {},
   "outputs": [
    {
     "data": {
      "text/plain": [
       "True"
      ]
     },
     "execution_count": 64,
     "metadata": {},
     "output_type": "execute_result"
    }
   ],
   "source": [
    "p.isalnum()"
   ]
  },
  {
   "cell_type": "code",
   "execution_count": 65,
   "id": "e729df5a",
   "metadata": {},
   "outputs": [],
   "source": [
    "p1  = \"1245\""
   ]
  },
  {
   "cell_type": "code",
   "execution_count": 66,
   "id": "53f71e6d",
   "metadata": {},
   "outputs": [
    {
     "data": {
      "text/plain": [
       "True"
      ]
     },
     "execution_count": 66,
     "metadata": {},
     "output_type": "execute_result"
    }
   ],
   "source": [
    "p1.isalnum()"
   ]
  },
  {
   "cell_type": "code",
   "execution_count": 67,
   "id": "3a33ca57",
   "metadata": {},
   "outputs": [
    {
     "data": {
      "text/plain": [
       "False"
      ]
     },
     "execution_count": 67,
     "metadata": {},
     "output_type": "execute_result"
    }
   ],
   "source": [
    "p1.islower()"
   ]
  },
  {
   "cell_type": "code",
   "execution_count": 68,
   "id": "9d177af9",
   "metadata": {},
   "outputs": [
    {
     "data": {
      "text/plain": [
       "False"
      ]
     },
     "execution_count": 68,
     "metadata": {},
     "output_type": "execute_result"
    }
   ],
   "source": [
    "p1.isupper()"
   ]
  },
  {
   "cell_type": "code",
   "execution_count": 69,
   "id": "c92526fe",
   "metadata": {},
   "outputs": [
    {
     "data": {
      "text/plain": [
       "False"
      ]
     },
     "execution_count": 69,
     "metadata": {},
     "output_type": "execute_result"
    }
   ],
   "source": [
    "p1.isalpha()"
   ]
  },
  {
   "cell_type": "code",
   "execution_count": 70,
   "id": "89affc29",
   "metadata": {},
   "outputs": [],
   "source": [
    "S = \"harish\""
   ]
  },
  {
   "cell_type": "code",
   "execution_count": 71,
   "id": "9ca40d39",
   "metadata": {},
   "outputs": [
    {
     "data": {
      "text/plain": [
       "False"
      ]
     },
     "execution_count": 71,
     "metadata": {},
     "output_type": "execute_result"
    }
   ],
   "source": [
    "S.istitle()"
   ]
  },
  {
   "cell_type": "code",
   "execution_count": 72,
   "id": "6fdfe594",
   "metadata": {},
   "outputs": [
    {
     "data": {
      "text/plain": [
       "True"
      ]
     },
     "execution_count": 72,
     "metadata": {},
     "output_type": "execute_result"
    }
   ],
   "source": [
    "S.endswith('sh')"
   ]
  },
  {
   "cell_type": "code",
   "execution_count": 73,
   "id": "d63110c8",
   "metadata": {},
   "outputs": [
    {
     "data": {
      "text/plain": [
       "6"
      ]
     },
     "execution_count": 73,
     "metadata": {},
     "output_type": "execute_result"
    }
   ],
   "source": [
    "len(S)"
   ]
  },
  {
   "cell_type": "code",
   "execution_count": 74,
   "id": "61adb8e8",
   "metadata": {},
   "outputs": [
    {
     "name": "stdout",
     "output_type": "stream",
     "text": [
      "6\n"
     ]
    }
   ],
   "source": [
    "print(len(S))"
   ]
  },
  {
   "cell_type": "code",
   "execution_count": 75,
   "id": "6cbb17d9",
   "metadata": {},
   "outputs": [
    {
     "name": "stdout",
     "output_type": "stream",
     "text": [
      "harish\n"
     ]
    }
   ],
   "source": [
    "print(S)"
   ]
  },
  {
   "cell_type": "code",
   "execution_count": 76,
   "id": "de4b27e2",
   "metadata": {},
   "outputs": [
    {
     "data": {
      "text/plain": [
       "'harish'"
      ]
     },
     "execution_count": 76,
     "metadata": {},
     "output_type": "execute_result"
    }
   ],
   "source": [
    "S"
   ]
  },
  {
   "cell_type": "code",
   "execution_count": 77,
   "id": "5bb4fbe7",
   "metadata": {},
   "outputs": [],
   "source": [
    "#LIST"
   ]
  },
  {
   "cell_type": "code",
   "execution_count": 78,
   "id": "3242ad43",
   "metadata": {},
   "outputs": [],
   "source": [
    "l = [1,2,3,4,\"harish\",7,\"sharma\",[8,5,7]]"
   ]
  },
  {
   "cell_type": "code",
   "execution_count": 79,
   "id": "8402d996",
   "metadata": {},
   "outputs": [
    {
     "name": "stdout",
     "output_type": "stream",
     "text": [
      "1\n",
      "2\n",
      "3\n",
      "4\n",
      "harish\n",
      "7\n",
      "sharma\n",
      "[8, 5, 7]\n"
     ]
    }
   ],
   "source": [
    "for i in l:\n",
    "    print(i)"
   ]
  },
  {
   "cell_type": "code",
   "execution_count": 80,
   "id": "8a09f7e5",
   "metadata": {},
   "outputs": [
    {
     "data": {
      "text/plain": [
       "[1, 2, 3, 4, 'harish', 7, 'sharma', [8, 5, 7]]"
      ]
     },
     "execution_count": 80,
     "metadata": {},
     "output_type": "execute_result"
    }
   ],
   "source": [
    "m = []\n",
    "for i in l:\n",
    "    m.append(i)\n",
    "m"
   ]
  },
  {
   "cell_type": "code",
   "execution_count": 81,
   "id": "d8f578fb",
   "metadata": {},
   "outputs": [
    {
     "data": {
      "text/plain": [
       "[1, 2, 3, 4, 'harish', 7, 'sharma', [8, 5, 7]]"
      ]
     },
     "execution_count": 81,
     "metadata": {},
     "output_type": "execute_result"
    }
   ],
   "source": [
    "m"
   ]
  },
  {
   "cell_type": "code",
   "execution_count": 82,
   "id": "c1ad23fd",
   "metadata": {},
   "outputs": [],
   "source": [
    "a = [1, 2, 3, 4, 'harish', 7, 'sharma', [8, 5, 7]]\n",
    "b = [4,7,5,8, \"India\",\"USA\"]"
   ]
  },
  {
   "cell_type": "code",
   "execution_count": 83,
   "id": "c0d28261",
   "metadata": {},
   "outputs": [
    {
     "data": {
      "text/plain": [
       "[1, 2, 3, 4, 'harish', 7, 'sharma', [8, 5, 7], 4, 7, 5, 8, 'India', 'USA']"
      ]
     },
     "execution_count": 83,
     "metadata": {},
     "output_type": "execute_result"
    }
   ],
   "source": [
    "a+b"
   ]
  },
  {
   "cell_type": "code",
   "execution_count": 85,
   "id": "11b7775e",
   "metadata": {},
   "outputs": [
    {
     "data": {
      "text/plain": [
       "[]"
      ]
     },
     "execution_count": 85,
     "metadata": {},
     "output_type": "execute_result"
    }
   ],
   "source": [
    "(a+b)*-1"
   ]
  },
  {
   "cell_type": "code",
   "execution_count": 86,
   "id": "85ee6234",
   "metadata": {},
   "outputs": [
    {
     "data": {
      "text/plain": [
       "[4, 7, 5, 8, 'India', 'USA', 'hariom']"
      ]
     },
     "execution_count": 86,
     "metadata": {},
     "output_type": "execute_result"
    }
   ],
   "source": [
    "b + [\"hariom\"]"
   ]
  },
  {
   "cell_type": "code",
   "execution_count": 87,
   "id": "da761b16",
   "metadata": {},
   "outputs": [
    {
     "data": {
      "text/plain": [
       "['h', 'a', 'r', 'i', 's', 'h']"
      ]
     },
     "execution_count": 87,
     "metadata": {},
     "output_type": "execute_result"
    }
   ],
   "source": [
    "list(\"harish\")"
   ]
  },
  {
   "cell_type": "code",
   "execution_count": 90,
   "id": "c65ba72b",
   "metadata": {},
   "outputs": [
    {
     "data": {
      "text/plain": [
       "['G', 'o', 'o', 'd', ' ', 'm', 'o', 'r', 'i', 'n', 'g', ' ']"
      ]
     },
     "execution_count": 90,
     "metadata": {},
     "output_type": "execute_result"
    }
   ],
   "source": [
    "list(\"Good moring \")"
   ]
  },
  {
   "cell_type": "code",
   "execution_count": 92,
   "id": "e9fc0bf5",
   "metadata": {},
   "outputs": [
    {
     "data": {
      "text/plain": [
       "['2', '5', '8', '9', '6', '3']"
      ]
     },
     "execution_count": 92,
     "metadata": {},
     "output_type": "execute_result"
    }
   ],
   "source": [
    "list(\"258963\")"
   ]
  },
  {
   "cell_type": "code",
   "execution_count": 12,
   "id": "77f6bc4f",
   "metadata": {},
   "outputs": [
    {
     "data": {
      "text/plain": [
       "[50]"
      ]
     },
     "execution_count": 12,
     "metadata": {},
     "output_type": "execute_result"
    }
   ],
   "source": [
    "list([50])"
   ]
  },
  {
   "cell_type": "code",
   "execution_count": 93,
   "id": "38c8b543",
   "metadata": {},
   "outputs": [
    {
     "data": {
      "text/plain": [
       "['iiitpune']"
      ]
     },
     "execution_count": 93,
     "metadata": {},
     "output_type": "execute_result"
    }
   ],
   "source": [
    "list([\"iiitpune\"])"
   ]
  },
  {
   "cell_type": "code",
   "execution_count": 94,
   "id": "724f5b22",
   "metadata": {},
   "outputs": [
    {
     "data": {
      "text/plain": [
       "[4, 7, 5, 8, 'India', 'USA', 'S', 'h', 'a', 'r']"
      ]
     },
     "execution_count": 94,
     "metadata": {},
     "output_type": "execute_result"
    }
   ],
   "source": [
    "b + list(\"Shar\")"
   ]
  },
  {
   "cell_type": "code",
   "execution_count": 15,
   "id": "77af6cac",
   "metadata": {},
   "outputs": [
    {
     "data": {
      "text/plain": [
       "[4, 7, 5, 8, 'India', 'USA']"
      ]
     },
     "execution_count": 15,
     "metadata": {},
     "output_type": "execute_result"
    }
   ],
   "source": [
    "b"
   ]
  },
  {
   "cell_type": "code",
   "execution_count": 95,
   "id": "4897ab8c",
   "metadata": {},
   "outputs": [
    {
     "data": {
      "text/plain": [
       "[4, 7, 5, 8, 'India', 'USA', 'Sharma']"
      ]
     },
     "execution_count": 95,
     "metadata": {},
     "output_type": "execute_result"
    }
   ],
   "source": [
    "b + list([\"Sharma\"])"
   ]
  },
  {
   "cell_type": "code",
   "execution_count": 96,
   "id": "9d192da4",
   "metadata": {},
   "outputs": [],
   "source": [
    "b.append(\"harish\")"
   ]
  },
  {
   "cell_type": "code",
   "execution_count": 97,
   "id": "bd0dbd45",
   "metadata": {},
   "outputs": [
    {
     "data": {
      "text/plain": [
       "[4, 7, 5, 8, 'India', 'USA', 'harish']"
      ]
     },
     "execution_count": 97,
     "metadata": {},
     "output_type": "execute_result"
    }
   ],
   "source": [
    "b"
   ]
  },
  {
   "cell_type": "code",
   "execution_count": 98,
   "id": "cc08e887",
   "metadata": {},
   "outputs": [],
   "source": [
    "b.insert(3, \"shastra\")"
   ]
  },
  {
   "cell_type": "code",
   "execution_count": 99,
   "id": "ac36aeeb",
   "metadata": {},
   "outputs": [
    {
     "data": {
      "text/plain": [
       "[4, 7, 5, 'shastra', 8, 'India', 'USA', 'harish']"
      ]
     },
     "execution_count": 99,
     "metadata": {},
     "output_type": "execute_result"
    }
   ],
   "source": [
    "b"
   ]
  },
  {
   "cell_type": "code",
   "execution_count": 100,
   "id": "e129b278",
   "metadata": {},
   "outputs": [],
   "source": [
    "b.insert(4,\"sharma\")"
   ]
  },
  {
   "cell_type": "code",
   "execution_count": 101,
   "id": "c72f5b93",
   "metadata": {},
   "outputs": [
    {
     "data": {
      "text/plain": [
       "[4, 7, 5, 'shastra', 'sharma', 8, 'India', 'USA', 'harish']"
      ]
     },
     "execution_count": 101,
     "metadata": {},
     "output_type": "execute_result"
    }
   ],
   "source": [
    "b"
   ]
  },
  {
   "cell_type": "code",
   "execution_count": 105,
   "id": "55c9eae6",
   "metadata": {},
   "outputs": [],
   "source": [
    "b.insert(-4, \"om\")"
   ]
  },
  {
   "cell_type": "code",
   "execution_count": 106,
   "id": "ee4f9785",
   "metadata": {},
   "outputs": [
    {
     "data": {
      "text/plain": [
       "[4, 7, 5, 'shastra', 'sharma', 8, 'India', 'om', 'USA', 'sri', 'sri', 'harish']"
      ]
     },
     "execution_count": 106,
     "metadata": {},
     "output_type": "execute_result"
    }
   ],
   "source": [
    "b"
   ]
  },
  {
   "cell_type": "code",
   "execution_count": 24,
   "id": "c0ce7933",
   "metadata": {},
   "outputs": [],
   "source": [
    "b.insert(-2, \"shiv\")"
   ]
  },
  {
   "cell_type": "code",
   "execution_count": 112,
   "id": "0df1b555",
   "metadata": {},
   "outputs": [
    {
     "data": {
      "text/plain": [
       "[4, 7, 5, 'shastra', 'sharma', 8, 'India', 'om', 'USA', 'sri']"
      ]
     },
     "execution_count": 112,
     "metadata": {},
     "output_type": "execute_result"
    }
   ],
   "source": [
    "b"
   ]
  },
  {
   "cell_type": "code",
   "execution_count": 119,
   "id": "e7c68013",
   "metadata": {},
   "outputs": [],
   "source": [
    "b.append([1,0,2,3])"
   ]
  },
  {
   "cell_type": "code",
   "execution_count": 120,
   "id": "705b86d8",
   "metadata": {},
   "outputs": [
    {
     "data": {
      "text/plain": [
       "[4, 7, 5, 'shastra', 'sharma', 8, 'India', 'om', 'USA', [1, 0, 2, 3]]"
      ]
     },
     "execution_count": 120,
     "metadata": {},
     "output_type": "execute_result"
    }
   ],
   "source": [
    "b"
   ]
  },
  {
   "cell_type": "code",
   "execution_count": 121,
   "id": "cf9b31d4",
   "metadata": {},
   "outputs": [
    {
     "data": {
      "text/plain": [
       "[4, 7, 5, 'shastra', 'sharma', 8, 'India', 'om', 'USA', [1, 0, 2, 3]]"
      ]
     },
     "execution_count": 121,
     "metadata": {},
     "output_type": "execute_result"
    }
   ],
   "source": [
    "b"
   ]
  },
  {
   "cell_type": "code",
   "execution_count": 122,
   "id": "a8ed407c",
   "metadata": {},
   "outputs": [
    {
     "data": {
      "text/plain": [
       "[1, 0, 2, 3]"
      ]
     },
     "execution_count": 122,
     "metadata": {},
     "output_type": "execute_result"
    }
   ],
   "source": [
    "b.pop()"
   ]
  },
  {
   "cell_type": "code",
   "execution_count": 123,
   "id": "e7fc34b8",
   "metadata": {},
   "outputs": [
    {
     "data": {
      "text/plain": [
       "[4, 7, 5, 'shastra', 'sharma', 8, 'India', 'om', 'USA']"
      ]
     },
     "execution_count": 123,
     "metadata": {},
     "output_type": "execute_result"
    }
   ],
   "source": [
    "b"
   ]
  },
  {
   "cell_type": "code",
   "execution_count": 124,
   "id": "431716f6",
   "metadata": {},
   "outputs": [
    {
     "data": {
      "text/plain": [
       "'USA'"
      ]
     },
     "execution_count": 124,
     "metadata": {},
     "output_type": "execute_result"
    }
   ],
   "source": [
    "b.pop(-1)"
   ]
  },
  {
   "cell_type": "code",
   "execution_count": 125,
   "id": "da171416",
   "metadata": {},
   "outputs": [
    {
     "data": {
      "text/plain": [
       "[4, 7, 5, 'shastra', 'sharma', 8, 'India', 'om']"
      ]
     },
     "execution_count": 125,
     "metadata": {},
     "output_type": "execute_result"
    }
   ],
   "source": [
    "b"
   ]
  },
  {
   "cell_type": "code",
   "execution_count": 126,
   "id": "4aa94d29",
   "metadata": {},
   "outputs": [
    {
     "data": {
      "text/plain": [
       "7"
      ]
     },
     "execution_count": 126,
     "metadata": {},
     "output_type": "execute_result"
    }
   ],
   "source": [
    "b.pop(1)"
   ]
  },
  {
   "cell_type": "code",
   "execution_count": 127,
   "id": "74b8a200",
   "metadata": {},
   "outputs": [
    {
     "data": {
      "text/plain": [
       "[4, 5, 'shastra', 'sharma', 8, 'India', 'om']"
      ]
     },
     "execution_count": 127,
     "metadata": {},
     "output_type": "execute_result"
    }
   ],
   "source": [
    "b"
   ]
  },
  {
   "cell_type": "code",
   "execution_count": 128,
   "id": "68c96787",
   "metadata": {},
   "outputs": [],
   "source": [
    "b.reverse()"
   ]
  },
  {
   "cell_type": "code",
   "execution_count": 129,
   "id": "7d09a880",
   "metadata": {},
   "outputs": [
    {
     "data": {
      "text/plain": [
       "['om', 'India', 8, 'sharma', 'shastra', 5, 4]"
      ]
     },
     "execution_count": 129,
     "metadata": {},
     "output_type": "execute_result"
    }
   ],
   "source": [
    "b"
   ]
  },
  {
   "cell_type": "code",
   "execution_count": 130,
   "id": "32d4901f",
   "metadata": {},
   "outputs": [
    {
     "data": {
      "text/plain": [
       "['om', 'India', 8, 'sharma', 'shastra', 5, 4]"
      ]
     },
     "execution_count": 130,
     "metadata": {},
     "output_type": "execute_result"
    }
   ],
   "source": [
    "b"
   ]
  },
  {
   "cell_type": "code",
   "execution_count": 131,
   "id": "ab5ac9f0",
   "metadata": {},
   "outputs": [],
   "source": [
    "v = [4,2,5,7,4,1,2,5,3,6,5,4]"
   ]
  },
  {
   "cell_type": "code",
   "execution_count": 132,
   "id": "2df8c5f3",
   "metadata": {},
   "outputs": [],
   "source": [
    "v.sort()"
   ]
  },
  {
   "cell_type": "code",
   "execution_count": 133,
   "id": "0f0783ae",
   "metadata": {},
   "outputs": [
    {
     "data": {
      "text/plain": [
       "[1, 2, 2, 3, 4, 4, 4, 5, 5, 5, 6, 7]"
      ]
     },
     "execution_count": 133,
     "metadata": {},
     "output_type": "execute_result"
    }
   ],
   "source": [
    "v"
   ]
  },
  {
   "cell_type": "code",
   "execution_count": 138,
   "id": "0e7dc2db",
   "metadata": {},
   "outputs": [],
   "source": [
    "v1 = [\"d\",\"g\",\"i\",\"y\",\"a\"]"
   ]
  },
  {
   "cell_type": "code",
   "execution_count": 139,
   "id": "85fa93e7",
   "metadata": {},
   "outputs": [],
   "source": [
    "v1.sort()"
   ]
  },
  {
   "cell_type": "code",
   "execution_count": 140,
   "id": "5d037261",
   "metadata": {},
   "outputs": [
    {
     "data": {
      "text/plain": [
       "['a', 'd', 'g', 'i', 'y']"
      ]
     },
     "execution_count": 140,
     "metadata": {},
     "output_type": "execute_result"
    }
   ],
   "source": [
    "v1"
   ]
  },
  {
   "cell_type": "code",
   "execution_count": 141,
   "id": "f454736f",
   "metadata": {},
   "outputs": [],
   "source": [
    "a = [3,5,6,8,7,4]\n",
    "b = [5,8,7,4,6,3,4,9,10]\n",
    "c = [1,2,3,4,5,7,8,6,0,7,0,3]"
   ]
  },
  {
   "cell_type": "code",
   "execution_count": 142,
   "id": "cb657832",
   "metadata": {},
   "outputs": [],
   "source": [
    "d = [a,b,c]"
   ]
  },
  {
   "cell_type": "code",
   "execution_count": 143,
   "id": "9fbd864d",
   "metadata": {},
   "outputs": [
    {
     "data": {
      "text/plain": [
       "[[3, 5, 6, 8, 7, 4],\n",
       " [5, 8, 7, 4, 6, 3, 4, 9, 10],\n",
       " [1, 2, 3, 4, 5, 7, 8, 6, 0, 7, 0, 3]]"
      ]
     },
     "execution_count": 143,
     "metadata": {},
     "output_type": "execute_result"
    }
   ],
   "source": [
    "d"
   ]
  },
  {
   "cell_type": "code",
   "execution_count": 144,
   "id": "16dc6850",
   "metadata": {},
   "outputs": [
    {
     "data": {
      "text/plain": [
       "7"
      ]
     },
     "execution_count": 144,
     "metadata": {},
     "output_type": "execute_result"
    }
   ],
   "source": [
    "d[1][2]"
   ]
  },
  {
   "cell_type": "code",
   "execution_count": 145,
   "id": "d4976e89",
   "metadata": {},
   "outputs": [
    {
     "data": {
      "text/plain": [
       "1"
      ]
     },
     "execution_count": 145,
     "metadata": {},
     "output_type": "execute_result"
    }
   ],
   "source": [
    "d[2][0]"
   ]
  },
  {
   "cell_type": "code",
   "execution_count": 146,
   "id": "c7982a22",
   "metadata": {},
   "outputs": [],
   "source": [
    "f = d"
   ]
  },
  {
   "cell_type": "code",
   "execution_count": 149,
   "id": "8d83b964",
   "metadata": {},
   "outputs": [
    {
     "data": {
      "text/plain": [
       "7"
      ]
     },
     "execution_count": 149,
     "metadata": {},
     "output_type": "execute_result"
    }
   ],
   "source": [
    "d[2][-3]"
   ]
  },
  {
   "cell_type": "code",
   "execution_count": null,
   "id": "ee51022d",
   "metadata": {},
   "outputs": [],
   "source": [
    "f"
   ]
  },
  {
   "cell_type": "code",
   "execution_count": 150,
   "id": "cbbe19e1",
   "metadata": {},
   "outputs": [
    {
     "data": {
      "text/plain": [
       "[[3, 5, 6, 8, 7, 4],\n",
       " [5, 8, 7, 4, 6, 3, 4, 9, 10],\n",
       " [1, 2, 3, 4, 5, 7, 8, 6, 0, 7, 0, 3]]"
      ]
     },
     "execution_count": 150,
     "metadata": {},
     "output_type": "execute_result"
    }
   ],
   "source": [
    "f"
   ]
  },
  {
   "cell_type": "code",
   "execution_count": 151,
   "id": "40094dab",
   "metadata": {},
   "outputs": [
    {
     "data": {
      "text/plain": [
       "[[1, 2, 3, 4, 5, 7, 8, 6, 0, 7, 0, 3],\n",
       " [5, 8, 7, 4, 6, 3, 4, 9, 10],\n",
       " [3, 5, 6, 8, 7, 4]]"
      ]
     },
     "execution_count": 151,
     "metadata": {},
     "output_type": "execute_result"
    }
   ],
   "source": [
    "f[::-1]"
   ]
  },
  {
   "cell_type": "code",
   "execution_count": 152,
   "id": "e2379edf",
   "metadata": {},
   "outputs": [
    {
     "data": {
      "text/plain": [
       "[[3, 5, 6, 8, 7, 4],\n",
       " [5, 8, 7, 4, 6, 3, 4, 9, 10],\n",
       " [1, 2, 3, 4, 5, 7, 8, 6, 0, 7, 0, 3]]"
      ]
     },
     "execution_count": 152,
     "metadata": {},
     "output_type": "execute_result"
    }
   ],
   "source": [
    "f"
   ]
  },
  {
   "cell_type": "code",
   "execution_count": 153,
   "id": "b7083555",
   "metadata": {},
   "outputs": [],
   "source": [
    "m = []\n",
    "f = f[::-1]\n",
    "for i in f:\n",
    "    m.append(i[::-1])"
   ]
  },
  {
   "cell_type": "code",
   "execution_count": 154,
   "id": "f1529044",
   "metadata": {},
   "outputs": [
    {
     "data": {
      "text/plain": [
       "[[1, 2, 3, 4, 5, 7, 8, 6, 0, 7, 0, 3],\n",
       " [5, 8, 7, 4, 6, 3, 4, 9, 10],\n",
       " [3, 5, 6, 8, 7, 4]]"
      ]
     },
     "execution_count": 154,
     "metadata": {},
     "output_type": "execute_result"
    }
   ],
   "source": [
    "f"
   ]
  },
  {
   "cell_type": "code",
   "execution_count": 155,
   "id": "390f77f7",
   "metadata": {},
   "outputs": [
    {
     "data": {
      "text/plain": [
       "[[3, 0, 7, 0, 6, 8, 7, 5, 4, 3, 2, 1],\n",
       " [10, 9, 4, 3, 6, 4, 7, 8, 5],\n",
       " [4, 7, 8, 6, 5, 3]]"
      ]
     },
     "execution_count": 155,
     "metadata": {},
     "output_type": "execute_result"
    }
   ],
   "source": [
    "m"
   ]
  },
  {
   "cell_type": "code",
   "execution_count": 156,
   "id": "a090e567",
   "metadata": {},
   "outputs": [],
   "source": [
    "n = []\n",
    "for i in m:\n",
    "    n.append(i[3])\n",
    "    \n",
    "    "
   ]
  },
  {
   "cell_type": "code",
   "execution_count": 157,
   "id": "855873be",
   "metadata": {},
   "outputs": [
    {
     "data": {
      "text/plain": [
       "[0, 3, 6]"
      ]
     },
     "execution_count": 157,
     "metadata": {},
     "output_type": "execute_result"
    }
   ],
   "source": [
    "n"
   ]
  },
  {
   "cell_type": "code",
   "execution_count": 158,
   "id": "37b61116",
   "metadata": {},
   "outputs": [
    {
     "data": {
      "text/plain": [
       "[0, 6, 12]"
      ]
     },
     "execution_count": 158,
     "metadata": {},
     "output_type": "execute_result"
    }
   ],
   "source": [
    "[i[3]*2 for i in m]"
   ]
  },
  {
   "cell_type": "code",
   "execution_count": 159,
   "id": "196762ee",
   "metadata": {},
   "outputs": [],
   "source": [
    "s = [1,2,3,5,4,7,8,9, \"harish\",147,78]"
   ]
  },
  {
   "cell_type": "code",
   "execution_count": 162,
   "id": "8691fc71",
   "metadata": {},
   "outputs": [],
   "source": [
    "s.extend((1,2,3,5))"
   ]
  },
  {
   "cell_type": "code",
   "execution_count": 163,
   "id": "483460e9",
   "metadata": {},
   "outputs": [
    {
     "data": {
      "text/plain": [
       "[1, 2, 3, 5, 4, 7, 8, 9, 'harish', 147, 78, 1, 2, 3, 5, 1, 2, 3, 5]"
      ]
     },
     "execution_count": 163,
     "metadata": {},
     "output_type": "execute_result"
    }
   ],
   "source": [
    "s"
   ]
  },
  {
   "cell_type": "code",
   "execution_count": 164,
   "id": "09e5f293",
   "metadata": {},
   "outputs": [],
   "source": [
    "j = [4,7,8,\"o\",6,\"g\",\"r\",1]"
   ]
  },
  {
   "cell_type": "code",
   "execution_count": 165,
   "id": "08319373",
   "metadata": {},
   "outputs": [],
   "source": [
    "s.append(j)"
   ]
  },
  {
   "cell_type": "code",
   "execution_count": 166,
   "id": "84f0ceac",
   "metadata": {},
   "outputs": [
    {
     "data": {
      "text/plain": [
       "[1,\n",
       " 2,\n",
       " 3,\n",
       " 5,\n",
       " 4,\n",
       " 7,\n",
       " 8,\n",
       " 9,\n",
       " 'harish',\n",
       " 147,\n",
       " 78,\n",
       " 1,\n",
       " 2,\n",
       " 3,\n",
       " 5,\n",
       " 1,\n",
       " 2,\n",
       " 3,\n",
       " 5,\n",
       " [4, 7, 8, 'o', 6, 'g', 'r', 1]]"
      ]
     },
     "execution_count": 166,
     "metadata": {},
     "output_type": "execute_result"
    }
   ],
   "source": [
    "s"
   ]
  },
  {
   "cell_type": "code",
   "execution_count": 167,
   "id": "ccf93e02",
   "metadata": {},
   "outputs": [],
   "source": [
    "s.extend(j)"
   ]
  },
  {
   "cell_type": "code",
   "execution_count": 168,
   "id": "04f825e8",
   "metadata": {},
   "outputs": [
    {
     "data": {
      "text/plain": [
       "[1,\n",
       " 2,\n",
       " 3,\n",
       " 5,\n",
       " 4,\n",
       " 7,\n",
       " 8,\n",
       " 9,\n",
       " 'harish',\n",
       " 147,\n",
       " 78,\n",
       " 1,\n",
       " 2,\n",
       " 3,\n",
       " 5,\n",
       " 1,\n",
       " 2,\n",
       " 3,\n",
       " 5,\n",
       " [4, 7, 8, 'o', 6, 'g', 'r', 1],\n",
       " 4,\n",
       " 7,\n",
       " 8,\n",
       " 'o',\n",
       " 6,\n",
       " 'g',\n",
       " 'r',\n",
       " 1]"
      ]
     },
     "execution_count": 168,
     "metadata": {},
     "output_type": "execute_result"
    }
   ],
   "source": [
    "s"
   ]
  },
  {
   "cell_type": "code",
   "execution_count": 169,
   "id": "ad1d705a",
   "metadata": {},
   "outputs": [],
   "source": [
    "g = \"harish\""
   ]
  },
  {
   "cell_type": "code",
   "execution_count": 170,
   "id": "031843f3",
   "metadata": {},
   "outputs": [
    {
     "data": {
      "text/plain": [
       "3"
      ]
     },
     "execution_count": 170,
     "metadata": {},
     "output_type": "execute_result"
    }
   ],
   "source": [
    "g.index(\"i\")"
   ]
  },
  {
   "cell_type": "code",
   "execution_count": 171,
   "id": "b81c3a17",
   "metadata": {},
   "outputs": [
    {
     "data": {
      "text/plain": [
       "2"
      ]
     },
     "execution_count": 171,
     "metadata": {},
     "output_type": "execute_result"
    }
   ],
   "source": [
    "s.index(3)"
   ]
  },
  {
   "cell_type": "markdown",
   "id": "2bca56a4",
   "metadata": {},
   "source": [
    "# Tuple "
   ]
  },
  {
   "cell_type": "code",
   "execution_count": 172,
   "id": "0db30ef6",
   "metadata": {},
   "outputs": [],
   "source": [
    "# Tuple is another kind of dataset, tuple, set, dict, function, lambda, iter, generator ,"
   ]
  },
  {
   "cell_type": "code",
   "execution_count": 173,
   "id": "106988a9",
   "metadata": {},
   "outputs": [
    {
     "data": {
      "text/plain": [
       "[0, 1, 2, 3, 4, 5, 6, 7, 8, 9]"
      ]
     },
     "execution_count": 173,
     "metadata": {},
     "output_type": "execute_result"
    }
   ],
   "source": [
    "list(range(10))"
   ]
  },
  {
   "cell_type": "code",
   "execution_count": 174,
   "id": "410a7f08",
   "metadata": {},
   "outputs": [
    {
     "data": {
      "text/plain": [
       "[[0, 1, 2, 3, 4, 5, 6, 7, 8, 9]]"
      ]
     },
     "execution_count": 174,
     "metadata": {},
     "output_type": "execute_result"
    }
   ],
   "source": [
    "[list(range(10))]"
   ]
  },
  {
   "cell_type": "code",
   "execution_count": 175,
   "id": "f9cbd710",
   "metadata": {},
   "outputs": [
    {
     "data": {
      "text/plain": [
       "[9, 7, 5]"
      ]
     },
     "execution_count": 175,
     "metadata": {},
     "output_type": "execute_result"
    }
   ],
   "source": [
    "list(range(9,3,-2))"
   ]
  },
  {
   "cell_type": "code",
   "execution_count": 177,
   "id": "93197976",
   "metadata": {},
   "outputs": [
    {
     "data": {
      "text/plain": [
       "[9, 8, 7, 6, 5, 4, 3]"
      ]
     },
     "execution_count": 177,
     "metadata": {},
     "output_type": "execute_result"
    }
   ],
   "source": [
    "list(range(9,2,-1))"
   ]
  },
  {
   "cell_type": "code",
   "execution_count": 178,
   "id": "79eee333",
   "metadata": {},
   "outputs": [
    {
     "data": {
      "text/plain": [
       "(10, 8, 6, 4, 2)"
      ]
     },
     "execution_count": 178,
     "metadata": {},
     "output_type": "execute_result"
    }
   ],
   "source": [
    "tuple(range(10,1, -2))"
   ]
  },
  {
   "cell_type": "code",
   "execution_count": 184,
   "id": "2728a531",
   "metadata": {},
   "outputs": [
    {
     "name": "stdout",
     "output_type": "stream",
     "text": [
      "h\n",
      "a\n",
      "r\n",
      "i\n",
      "s\n",
      "h\n"
     ]
    }
   ],
   "source": [
    "l2 = \"harish\"\n",
    "l1 = [\"harish\"]\n",
    "for i in l2:\n",
    "    print(i)"
   ]
  },
  {
   "cell_type": "code",
   "execution_count": 183,
   "id": "d66a03c6",
   "metadata": {},
   "outputs": [
    {
     "name": "stdout",
     "output_type": "stream",
     "text": [
      "h\n",
      "a\n",
      "r\n",
      "i\n",
      "s\n",
      "h\n"
     ]
    }
   ],
   "source": [
    "l2 = \"harish\"\n",
    "l1 = [\"harish\"]\n",
    "for i in l1:\n",
    "    for k in i:\n",
    "        for j in k:\n",
    "            print(j)"
   ]
  },
  {
   "cell_type": "code",
   "execution_count": 185,
   "id": "54ca4409",
   "metadata": {},
   "outputs": [],
   "source": [
    "j = {\"key\":\"Aarish\", \"key1\":\"kuldeep\", \"key3\":\"sharma\" }"
   ]
  },
  {
   "cell_type": "code",
   "execution_count": 189,
   "id": "d89c840c",
   "metadata": {},
   "outputs": [
    {
     "name": "stdout",
     "output_type": "stream",
     "text": [
      "key\n",
      "key1\n",
      "key3\n"
     ]
    }
   ],
   "source": [
    "for i in j:\n",
    "    print(i)"
   ]
  },
  {
   "cell_type": "code",
   "execution_count": 70,
   "id": "c31947c4",
   "metadata": {},
   "outputs": [
    {
     "data": {
      "text/plain": [
       "[5, 7, 8, 96]"
      ]
     },
     "execution_count": 70,
     "metadata": {},
     "output_type": "execute_result"
    }
   ],
   "source": [
    "l = [1,2,4,5,7,8,96,32]\n",
    "l[-5:-1]"
   ]
  },
  {
   "cell_type": "code",
   "execution_count": 193,
   "id": "74ad8455",
   "metadata": {},
   "outputs": [],
   "source": [
    "j[\"key3\"] = \"shastrasharma\""
   ]
  },
  {
   "cell_type": "code",
   "execution_count": 194,
   "id": "8fa9af7a",
   "metadata": {},
   "outputs": [
    {
     "data": {
      "text/plain": [
       "{'key': 'Aarish', 'key1': 'kuldeep', 'key3': 'shastrasharma'}"
      ]
     },
     "execution_count": 194,
     "metadata": {},
     "output_type": "execute_result"
    }
   ],
   "source": [
    "j"
   ]
  },
  {
   "cell_type": "code",
   "execution_count": 191,
   "id": "249d190a",
   "metadata": {},
   "outputs": [],
   "source": [
    "a = int('pi')"
   ]
  },
  {
   "cell_type": "code",
   "execution_count": 69,
   "id": "89dc0708",
   "metadata": {},
   "outputs": [
    {
     "name": "stdout",
     "output_type": "stream",
     "text": [
      "{'key': 'kuldeep', 'key3': 'shastra'}\n",
      "{'key': 'kuldeep', 'key3': 'shastra'}\n"
     ]
    }
   ],
   "source": [
    "for i in j:\n",
    "    print(j)"
   ]
  },
  {
   "cell_type": "code",
   "execution_count": 195,
   "id": "ea51feae",
   "metadata": {},
   "outputs": [
    {
     "data": {
      "text/plain": [
       "3111285971152"
      ]
     },
     "execution_count": 195,
     "metadata": {},
     "output_type": "execute_result"
    }
   ],
   "source": [
    "id(a)"
   ]
  },
  {
   "cell_type": "code",
   "execution_count": 197,
   "id": "0e59f464",
   "metadata": {},
   "outputs": [
    {
     "data": {
      "text/plain": [
       "['sharma', 'mkls', 'harish']"
      ]
     },
     "execution_count": 197,
     "metadata": {},
     "output_type": "execute_result"
    }
   ],
   "source": [
    "[\"sharma\",\"mkls\"] + [\"harish\"]"
   ]
  },
  {
   "cell_type": "code",
   "execution_count": null,
   "id": "be0c43a8",
   "metadata": {},
   "outputs": [],
   "source": [
    "23 + 23\n"
   ]
  },
  {
   "cell_type": "code",
   "execution_count": 200,
   "id": "867810ec",
   "metadata": {},
   "outputs": [
    {
     "data": {
      "text/plain": [
       "'shasrthra'"
      ]
     },
     "execution_count": 200,
     "metadata": {},
     "output_type": "execute_result"
    }
   ],
   "source": [
    "\"shasr\" +\"thra\""
   ]
  },
  {
   "cell_type": "code",
   "execution_count": 1,
   "id": "4f991a65",
   "metadata": {},
   "outputs": [],
   "source": [
    "class person:\n",
    "    pass"
   ]
  },
  {
   "cell_type": "code",
   "execution_count": 2,
   "id": "24d640b3",
   "metadata": {},
   "outputs": [],
   "source": [
    "p = person()"
   ]
  },
  {
   "cell_type": "code",
   "execution_count": 3,
   "id": "23dc4516",
   "metadata": {},
   "outputs": [
    {
     "data": {
      "text/plain": [
       "<__main__.person at 0x1d4abdef850>"
      ]
     },
     "execution_count": 3,
     "metadata": {},
     "output_type": "execute_result"
    }
   ],
   "source": [
    "p"
   ]
  },
  {
   "cell_type": "code",
   "execution_count": 4,
   "id": "4df73425",
   "metadata": {},
   "outputs": [
    {
     "data": {
      "text/plain": [
       "__main__.person"
      ]
     },
     "execution_count": 4,
     "metadata": {},
     "output_type": "execute_result"
    }
   ],
   "source": [
    "type(p)"
   ]
  },
  {
   "cell_type": "code",
   "execution_count": 5,
   "id": "3ab2d6b7",
   "metadata": {},
   "outputs": [],
   "source": [
    "class person:\n",
    "    def __init__(self, name,surname,yob):\n",
    "        self.name = \"harish\"\n",
    "        self.surname = \"sharma\"\n",
    "        self.yob  = 244562\n",
    "        self.name = \"rajan\"\n",
    "        self.surname = \"pathak\"\n",
    "        self.yob = 25478\n",
    "        self.empno = 20\n",
    "        "
   ]
  },
  {
   "cell_type": "code",
   "execution_count": 6,
   "id": "25e6233f",
   "metadata": {},
   "outputs": [],
   "source": [
    "p1 = person('name','surname','yob')"
   ]
  },
  {
   "cell_type": "code",
   "execution_count": 8,
   "id": "fe06ace2",
   "metadata": {},
   "outputs": [
    {
     "data": {
      "text/plain": [
       "('rajan', 'pathak', 25478)"
      ]
     },
     "execution_count": 8,
     "metadata": {},
     "output_type": "execute_result"
    }
   ],
   "source": [
    "p1.name, p1.surname, p1.yob"
   ]
  },
  {
   "cell_type": "code",
   "execution_count": 9,
   "id": "74d4a60b",
   "metadata": {},
   "outputs": [
    {
     "data": {
      "text/plain": [
       "20"
      ]
     },
     "execution_count": 9,
     "metadata": {},
     "output_type": "execute_result"
    }
   ],
   "source": [
    "p1.empno"
   ]
  },
  {
   "cell_type": "code",
   "execution_count": 10,
   "id": "dae85de6",
   "metadata": {},
   "outputs": [
    {
     "data": {
      "text/plain": [
       "25478"
      ]
     },
     "execution_count": 10,
     "metadata": {},
     "output_type": "execute_result"
    }
   ],
   "source": [
    "p1.yob"
   ]
  },
  {
   "cell_type": "code",
   "execution_count": 11,
   "id": "6f995cbf",
   "metadata": {},
   "outputs": [],
   "source": [
    "p = person(\"name\",\"surname\",\"yob\")"
   ]
  },
  {
   "cell_type": "code",
   "execution_count": 12,
   "id": "98b29d33",
   "metadata": {},
   "outputs": [
    {
     "name": "stdout",
     "output_type": "stream",
     "text": [
      "<__main__.person object at 0x000001D4ABDEF880>\n"
     ]
    }
   ],
   "source": [
    "print(p)"
   ]
  },
  {
   "cell_type": "code",
   "execution_count": 13,
   "id": "3bbdb1af",
   "metadata": {},
   "outputs": [],
   "source": [
    "a  = person(\"name\",\"surname\",\"yob\")"
   ]
  },
  {
   "cell_type": "code",
   "execution_count": 15,
   "id": "dd0671b9",
   "metadata": {},
   "outputs": [
    {
     "data": {
      "text/plain": [
       "'rajan'"
      ]
     },
     "execution_count": 15,
     "metadata": {},
     "output_type": "execute_result"
    }
   ],
   "source": [
    "p.name"
   ]
  },
  {
   "cell_type": "code",
   "execution_count": 232,
   "id": "3e1443e6",
   "metadata": {},
   "outputs": [
    {
     "name": "stdout",
     "output_type": "stream",
     "text": [
      "<class 'dict'>\n",
      "{\"name\": \"David\", \"class\": \"I\", \"age\": 6}\n"
     ]
    },
    {
     "data": {
      "text/plain": [
       "str"
      ]
     },
     "execution_count": 232,
     "metadata": {},
     "output_type": "execute_result"
    }
   ],
   "source": [
    "import json\n",
    "# a Python object (dict):\n",
    "python_obj = {\n",
    "  \"name\": \"David\",\n",
    "  \"class\":\"I\",\n",
    "  \"age\": 6  \n",
    "}\n",
    "print(type(python_obj))\n",
    "# convert into JSON:\n",
    "j_data = json.dumps(python_obj)\n",
    "\n",
    "# result is a JSON string:\n",
    "print(j_data)\n",
    "type(j_data)\n",
    "#type(python_obj)\n"
   ]
  },
  {
   "cell_type": "code",
   "execution_count": 231,
   "id": "ea3a76eb",
   "metadata": {},
   "outputs": [
    {
     "data": {
      "text/plain": [
       "'D:\\\\Pyhton_data'"
      ]
     },
     "execution_count": 231,
     "metadata": {},
     "output_type": "execute_result"
    }
   ],
   "source": [
    "pwd()"
   ]
  },
  {
   "cell_type": "code",
   "execution_count": 7,
   "id": "7d94444c",
   "metadata": {},
   "outputs": [
    {
     "name": "stdout",
     "output_type": "stream",
     "text": [
      "<class 'str'>\n",
      "{'name': 'Harish', 'emp': 'iiitp', 'place': 'pune'}\n"
     ]
    }
   ],
   "source": [
    "import json\n",
    "j_son = '{\"name\" : \"Harish\", \"emp\": \"iiitp\",\"place\": \"pune\"}'\n",
    "print(type(j_son))\n",
    "py_data = json.loads(j_son)\n",
    "print(py_data)"
   ]
  },
  {
   "cell_type": "code",
   "execution_count": 18,
   "id": "b40ffd0c",
   "metadata": {},
   "outputs": [
    {
     "name": "stdout",
     "output_type": "stream",
     "text": [
      "{\"name\": \"David\", \"age\": 6, \"class\": \"I\"} [\"Red\", \"Green\", \"Black\"] \"Python Json\" 1234 21.34 true false null\n"
     ]
    }
   ],
   "source": [
    "import json\n",
    "python_dict =  {\"name\": \"David\", \"age\": 6, \"class\":\"I\"}\n",
    "python_list =  [\"Red\", \"Green\", \"Black\"]\n",
    "python_str =  \"Python Json\"\n",
    "python_int =  (1234)\n",
    "python_float =  (21.34)\n",
    "python_T =  (True)\n",
    "python_F =  (False)\n",
    "python_N =  (None)\n",
    "#json_dict = json.dumps(python_dict)\n",
    "json_dict = json.dumps(python_dict)\n",
    "json_list = json.dumps(python_list)\n",
    "json_str = json.dumps(python_str)\n",
    "json_int = json.dumps(python_int)\n",
    "json_float = json.dumps(python_float)\n",
    "json_T = json.dumps(python_T)\n",
    "json_F = json.dumps(python_F)\n",
    "json_N = json.dumps(python_N)\n",
    "print(json_dict ,json_list, json_str, json_int,json_float,json_T,json_F,json_N)"
   ]
  },
  {
   "cell_type": "code",
   "execution_count": 233,
   "id": "7e3df177",
   "metadata": {},
   "outputs": [
    {
     "name": "stdout",
     "output_type": "stream",
     "text": [
      "{'key1': 'Aarish', 'key': 'kuldeep', 'key3': 'sharma'}\n",
      "{\n",
      "    \"key\": \"kuldeep\",\n",
      "    \"key1\": \"Aarish\",\n",
      "    \"key3\": \"sharma\"\n",
      "}\n"
     ]
    }
   ],
   "source": [
    "import json\n",
    "j_str = {\"key1\":\"Aarish\", \"key\":\"kuldeep\", \"key3\":\"sharma\"}\n",
    "#original string\n",
    "print(j_str)\n",
    "print(json.dumps(j_str, sort_keys = True, indent = 4))\n"
   ]
  },
  {
   "cell_type": "code",
   "execution_count": 234,
   "id": "8b4cd9eb",
   "metadata": {},
   "outputs": [
    {
     "ename": "FileNotFoundError",
     "evalue": "[Errno 2] No such file or directory: 'states.json'",
     "output_type": "error",
     "traceback": [
      "\u001b[1;31m---------------------------------------------------------------------------\u001b[0m",
      "\u001b[1;31mFileNotFoundError\u001b[0m                         Traceback (most recent call last)",
      "\u001b[1;32mC:\\Users\\HARISH~1\\AppData\\Local\\Temp/ipykernel_8176/1293987114.py\u001b[0m in \u001b[0;36m<module>\u001b[1;34m\u001b[0m\n\u001b[0;32m      1\u001b[0m \u001b[1;32mimport\u001b[0m \u001b[0mjson\u001b[0m\u001b[1;33m\u001b[0m\u001b[1;33m\u001b[0m\u001b[0m\n\u001b[0;32m      2\u001b[0m \u001b[1;33m\u001b[0m\u001b[0m\n\u001b[1;32m----> 3\u001b[1;33m \u001b[1;32mwith\u001b[0m \u001b[0mopen\u001b[0m\u001b[1;33m(\u001b[0m\u001b[1;34m'states.json'\u001b[0m\u001b[1;33m)\u001b[0m \u001b[1;32mas\u001b[0m \u001b[0mf\u001b[0m\u001b[1;33m:\u001b[0m\u001b[1;33m\u001b[0m\u001b[1;33m\u001b[0m\u001b[0m\n\u001b[0m\u001b[0;32m      4\u001b[0m   \u001b[0mstate_data\u001b[0m\u001b[1;33m=\u001b[0m \u001b[0mjson\u001b[0m\u001b[1;33m.\u001b[0m\u001b[0mload\u001b[0m\u001b[1;33m(\u001b[0m\u001b[0mf\u001b[0m\u001b[1;33m)\u001b[0m\u001b[1;33m\u001b[0m\u001b[1;33m\u001b[0m\u001b[0m\n\u001b[0;32m      5\u001b[0m \u001b[1;33m\u001b[0m\u001b[0m\n",
      "\u001b[1;31mFileNotFoundError\u001b[0m: [Errno 2] No such file or directory: 'states.json'"
     ]
    }
   ],
   "source": [
    "import json\n",
    "\n",
    "with open('states.json') as f:\n",
    "  state_data= json.load(f)\n",
    "\n",
    "for state in state_data['states']:\n",
    "  del state['area_codes']\n",
    "\n",
    "with open('new_states.json', 'w') as f:\n",
    "  json.dump(state_data, f, indent=2)"
   ]
  },
  {
   "cell_type": "code",
   "execution_count": 235,
   "id": "76747069",
   "metadata": {},
   "outputs": [
    {
     "name": "stdout",
     "output_type": "stream",
     "text": [
      "[2.0, 3.0]\n"
     ]
    }
   ],
   "source": [
    "import json\n",
    "def encode_complex(object):\n",
    "    if isinstance(object, complex):\n",
    "        return [object.real, object.imag]\n",
    "    raise TypeError(repr(object) + \"is not json serealized\")\n",
    "complex_obj = json.dumps(2+3j, default = encode_complex)\n",
    "print(complex_obj)\n",
    "\n"
   ]
  },
  {
   "cell_type": "code",
   "execution_count": 242,
   "id": "c9b9878c",
   "metadata": {},
   "outputs": [
    {
     "data": {
      "text/plain": [
       "[4.0, 7.0]"
      ]
     },
     "execution_count": 242,
     "metadata": {},
     "output_type": "execute_result"
    }
   ],
   "source": [
    "l = (4+7j)\n",
    "encode_complex(l)"
   ]
  },
  {
   "cell_type": "code",
   "execution_count": 243,
   "id": "9872f066",
   "metadata": {},
   "outputs": [
    {
     "data": {
      "text/plain": [
       "[2.1, 3.6]"
      ]
     },
     "execution_count": 243,
     "metadata": {},
     "output_type": "execute_result"
    }
   ],
   "source": [
    "encode_complex(2.1 + 3.6j)"
   ]
  },
  {
   "cell_type": "code",
   "execution_count": 244,
   "id": "b1bb4530",
   "metadata": {},
   "outputs": [
    {
     "name": "stdout",
     "output_type": "stream",
     "text": [
      "Uniq keys is : {'a': 4, 'b': 2}\n"
     ]
    }
   ],
   "source": [
    "import json\n",
    "python_obj = '{\"a\":  1, \"a\":  2, \"a\":  3, \"a\": 4, \"b\": 1, \"b\": 2}'\n",
    "json_b = json.loads(python_obj)\n",
    "print(\"Uniq keys is :\", json_b)"
   ]
  },
  {
   "cell_type": "code",
   "execution_count": 40,
   "id": "b668a7dc",
   "metadata": {},
   "outputs": [
    {
     "name": "stdout",
     "output_type": "stream",
     "text": [
      "False\n",
      "True\n"
     ]
    }
   ],
   "source": [
    "# Write a Python function that takes a sequence of numbers and determines \n",
    "#whether all the numbers are different from each other\n",
    "def test_distinct(data):\n",
    "    if len(data) ==len(set(data)):\n",
    "        return True\n",
    "    else:\n",
    "        return False;\n",
    "print(test_distinct([1,5,7,7,9]))\n",
    "print(test_distinct([2,4,5,7,9]))\n"
   ]
  },
  {
   "cell_type": "code",
   "execution_count": 42,
   "id": "5cd33b5c",
   "metadata": {},
   "outputs": [
    {
     "data": {
      "text/plain": [
       "True"
      ]
     },
     "execution_count": 42,
     "metadata": {},
     "output_type": "execute_result"
    }
   ],
   "source": [
    "l = [5,8,7,45,9,6,]\n",
    "test_distinct(l)"
   ]
  },
  {
   "cell_type": "code",
   "execution_count": 245,
   "id": "6762d633",
   "metadata": {},
   "outputs": [
    {
     "name": "stdout",
     "output_type": "stream",
     "text": [
      "Input the first number23\n",
      "Input the second number14\n",
      "Input the third number56\n",
      "Median of the above three numbers -\n",
      "23\n"
     ]
    }
   ],
   "source": [
    "x = input(\"Input the first number\")\n",
    "y = input(\"Input the second number\")\n",
    "z = input(\"Input the third number\")\n",
    "print(\"Median of the above three numbers -\")\n",
    "if x>y and x<z:\n",
    "    print(x)\n",
    "elif x<y and x>z:\n",
    "    print(x)\n",
    "elif y>x and y<z:\n",
    "    print(y)\n",
    "elif y<x and y>z:\n",
    "    print(y)\n",
    "elif z>x and z<y:\n",
    "    print(z)\n",
    "elif z>y and z<x:\n",
    "    print(z)\n",
    "    \n"
   ]
  },
  {
   "cell_type": "code",
   "execution_count": 247,
   "id": "eab4c0ca",
   "metadata": {},
   "outputs": [
    {
     "name": "stdout",
     "output_type": "stream",
     "text": [
      "factendz 5\n",
      "factendz 20\n",
      "factendz 35\n"
     ]
    }
   ],
   "source": [
    "def factendz(n):\n",
    "    x = n // 5\n",
    "    y = x\n",
    "    while x>0:\n",
    "        x /= 5\n",
    "        y += int(x)\n",
    "    return y\n",
    "print(\"factendz\", (5))\n",
    "print(\"factendz\", (20))\n",
    "print(\"factendz\", (35))"
   ]
  },
  {
   "cell_type": "code",
   "execution_count": 248,
   "id": "357c8761",
   "metadata": {},
   "outputs": [
    {
     "name": "stdout",
     "output_type": "stream",
     "text": [
      "\n",
      "Original string:\n",
      "\n",
      "Joe waited for the train. The train was late. \n",
      "Mary and Samantha took the bus. \n",
      "I looked for Mary and Samantha at the bus station.\n",
      "\n",
      "\n",
      "Sentence-tokenized copy in a list:\n",
      "['\\nJoe waited for the train.', 'The train was late.', 'Mary and Samantha took the bus.', 'I looked for Mary and Samantha at the bus station.']\n",
      "\n",
      "Read the list:\n",
      "\n",
      "Joe waited for the train.\n",
      "The train was late.\n",
      "Mary and Samantha took the bus.\n",
      "I looked for Mary and Samantha at the bus station.\n"
     ]
    },
    {
     "name": "stderr",
     "output_type": "stream",
     "text": [
      "[nltk_data] Error loading punkt: <urlopen error [Errno 11001]\n",
      "[nltk_data]     getaddrinfo failed>\n"
     ]
    }
   ],
   "source": [
    "import nltk\n",
    "nltk.download('punkt')\n",
    "text = '''\n",
    "Joe waited for the train. The train was late. \n",
    "Mary and Samantha took the bus. \n",
    "I looked for Mary and Samantha at the bus station.\n",
    "'''\n",
    "print(\"\\nOriginal string:\")\n",
    "print(text)\n",
    "from nltk.tokenize import sent_tokenize\n",
    "token_text = sent_tokenize(text)\n",
    "print(\"\\nSentence-tokenized copy in a list:\")\n",
    "print(token_text)\n",
    "print(\"\\nRead the list:\")\n",
    "for s in token_text:\n",
    "    print(s)"
   ]
  },
  {
   "cell_type": "code",
   "execution_count": 93,
   "id": "63c0e8d6",
   "metadata": {},
   "outputs": [
    {
     "name": "stdout",
     "output_type": "stream",
     "text": [
      "\n",
      "Sentence-tokenized copy in a set:\n",
      "['Tokenization, when applied to data security, is the process of substituting a sensitive data element with a non-sensitive equivalent, referred to as a token, that has no extrinsic or exploitable meaning or value.', 'The token is a reference that maps back to the sensitive data through a tokenization system.']\n",
      "\n",
      "Read the list:\n",
      "Tokenization, when applied to data security, is the process of substituting a sensitive data element with a non-sensitive equivalent, referred to as a token, that has no extrinsic or exploitable meaning or value.\n",
      "The token is a reference that maps back to the sensitive data through a tokenization system.\n"
     ]
    }
   ],
   "source": [
    "#!pip install nltk\n",
    "h = \"\"\"Tokenization, when applied to data security, is the process of substituting a sensitive data element with a non-sensitive equivalent, referred to as a token, that has no extrinsic or exploitable meaning or value. The token is a reference that maps back to the sensitive data through a tokenization system.\"\"\"\n",
    "from nltk.tokenize import sent_tokenize\n",
    "token_text = sent_tokenize(h)\n",
    "print(\"\\nSentence-tokenized copy in a set:\")\n",
    "print(token_text)\n",
    "print(\"\\nRead the list:\")\n",
    "for s in token_text:\n",
    "    print(s)"
   ]
  },
  {
   "cell_type": "code",
   "execution_count": 100,
   "id": "83b05a26",
   "metadata": {},
   "outputs": [
    {
     "name": "stdout",
     "output_type": "stream",
     "text": [
      "\n",
      "Original string:\n",
      "NLTK ist Open Source Software. Der Quellcode wird unter den Bedingungen der Apache License Version 2.0 vertrieben.  \n",
      "Die Dokumentation wird unter den Bedingungen der Creative Commons-Lizenz Namensnennung - Nicht kommerziell - Keine \n",
      "abgeleiteten Werke 3.0 in den Vereinigten Staaten verteilt.\n",
      "\n",
      "\n",
      "Sentence-tokenized copy in a list:\n",
      "['NLTK ist Open Source Software.', 'Der Quellcode wird unter den Bedingungen der Apache License Version 2.0 vertrieben.', 'Die Dokumentation wird unter den Bedingungen der Creative Commons-Lizenz Namensnennung - Nicht kommerziell - Keine \\nabgeleiteten Werke 3.0 in den Vereinigten Staaten verteilt.']\n",
      "\n",
      "Read the list:\n",
      "NLTK ist Open Source Software.\n",
      "Der Quellcode wird unter den Bedingungen der Apache License Version 2.0 vertrieben.\n",
      "Die Dokumentation wird unter den Bedingungen der Creative Commons-Lizenz Namensnennung - Nicht kommerziell - Keine \n",
      "abgeleiteten Werke 3.0 in den Vereinigten Staaten verteilt.\n"
     ]
    }
   ],
   "source": [
    "t = '''NLTK ist Open Source Software. Der Quellcode wird unter den Bedingungen der Apache License Version 2.0 vertrieben.  \n",
    "Die Dokumentation wird unter den Bedingungen der Creative Commons-Lizenz Namensnennung - Nicht kommerziell - Keine \n",
    "abgeleiteten Werke 3.0 in den Vereinigten Staaten verteilt.\n",
    "'''\n",
    "print(\"\\nOriginal string:\")\n",
    "print(t)\n",
    "from nltk.tokenize import sent_tokenize\n",
    "token_text = sent_tokenize(t, language='german')\n",
    "print(\"\\nSentence-tokenized copy in a list:\")\n",
    "print(token_text)\n",
    "print(\"\\nRead the list:\")\n",
    "for s in token_text:\n",
    "    print(s)"
   ]
  },
  {
   "cell_type": "code",
   "execution_count": 101,
   "id": "7fc1f1a4",
   "metadata": {},
   "outputs": [
    {
     "name": "stdout",
     "output_type": "stream",
     "text": [
      "\n",
      "Original string:\n",
      "Joe waited for the train. The train was late. Mary and Samantha took the bus. I looked for Mary and Samantha at the bus station.\n",
      "\n",
      "List of words:\n",
      "['Joe', 'waited', 'for', 'the', 'train', '.', 'The', 'train', 'was', 'late', '.', 'Mary', 'and', 'Samantha', 'took', 'the', 'bus', '.', 'I', 'looked', 'for', 'Mary', 'and', 'Samantha', 'at', 'the', 'bus', 'station', '.']\n"
     ]
    }
   ],
   "source": [
    "from nltk.tokenize import word_tokenize\n",
    "text = \"Joe waited for the train. The train was late. Mary and Samantha took the bus. I looked for Mary and Samantha at the bus station.\"\n",
    "print(\"\\nOriginal string:\")\n",
    "print(text)\n",
    "print(\"\\nList of words:\")\n",
    "print(word_tokenize(text))\n",
    "for i in word_tokenize(text):\n",
    "    if i == l"
   ]
  },
  {
   "cell_type": "code",
   "execution_count": null,
   "id": "f69cd84c",
   "metadata": {},
   "outputs": [],
   "source": []
  }
 ],
 "metadata": {
  "kernelspec": {
   "display_name": "Python 3 (ipykernel)",
   "language": "python",
   "name": "python3"
  },
  "language_info": {
   "codemirror_mode": {
    "name": "ipython",
    "version": 3
   },
   "file_extension": ".py",
   "mimetype": "text/x-python",
   "name": "python",
   "nbconvert_exporter": "python",
   "pygments_lexer": "ipython3",
   "version": "3.9.7"
  }
 },
 "nbformat": 4,
 "nbformat_minor": 5
}
